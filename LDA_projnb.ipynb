{
 "cells": [
  {
   "cell_type": "markdown",
   "metadata": {},
   "source": [
    "#### Imports"
   ]
  },
  {
   "cell_type": "code",
   "execution_count": 8,
   "metadata": {},
   "outputs": [],
   "source": [
    "import sys\n",
    "import pandas as pd\n",
    "import numpy as np\n",
    "from sklearn.feature_extraction.text import ENGLISH_STOP_WORDS, CountVectorizer\n",
    "from sklearn.decomposition import LatentDirichletAllocation\n",
    "from sklearn.preprocessing import Normalizer\n",
    "from sklearn.cluster import KMeans\n",
    "from sklearn.metrics import silhouette_score\n",
    "import matplotlib.pyplot as plt\n",
    "from gensim.models import CoherenceModel, LdaModel\n",
    "from gensim.corpora.dictionary import Dictionary\n",
    "from gensim.matutils import Sparse2Corpus\n",
    "\n",
    "movies = pd.read_csv('./dataset/movies.csv')"
   ]
  },
  {
   "cell_type": "markdown",
   "metadata": {},
   "source": [
    "#### Preprocessing"
   ]
  },
  {
   "cell_type": "code",
   "execution_count": 9,
   "metadata": {},
   "outputs": [],
   "source": [
    "movies.dropna(inplace=True, subset=['description'])\n",
    "\n",
    "custom_stop_words = {'lives', 'life', 'director', 'directed', 'film', 'films', 'filmaker',}\n",
    "combined_stop_words = list(ENGLISH_STOP_WORDS.union(custom_stop_words))\n",
    "\n",
    "# Tokenizing descriptions for dictionary\n",
    "tokenized_descriptions = [doc.split() for doc in movies['description']]\n",
    "\n",
    "# Remove stop words and vectorize to bag of words\n",
    "vectorizer = CountVectorizer(stop_words=combined_stop_words, min_df=100, max_df=0.06)\n",
    "X = vectorizer.fit_transform(movies['description'])\n",
    "vocab = vectorizer.get_feature_names_out()\n",
    "\n",
    "# Convert sparse matrix to Gensim's corpus\n",
    "corpus = Sparse2Corpus(X, documents_columns=False)\n",
    "id2word = Dictionary(tokenized_descriptions)\n",
    "\n",
    "# Normalize data\n",
    "normalizer = Normalizer()\n",
    "X_normalized = normalizer.fit_transform(X)"
   ]
  },
  {
   "cell_type": "markdown",
   "metadata": {},
   "source": [
    "##### Determining Range of Topics for LDA using Log Likelihoods"
   ]
  },
  {
   "cell_type": "code",
   "execution_count": 10,
   "metadata": {},
   "outputs": [],
   "source": [
    "# log_likelihoods = []\n",
    "# n_topics_options = range(5, 31)  # Trying from 5 to 30 topics\n",
    "# for n_topics in n_topics_options:\n",
    "#     print(\"Starting LDA\", n_topics)\n",
    "#     lda = LatentDirichletAllocation(n_components=n_topics, random_state=0)\n",
    "#     print(\"Model insantiated\")\n",
    "#     lda.fit(X_normalized)\n",
    "#     print(\"Model fitted\")\n",
    "#     ldaScore = lda.score(X_normalized)\n",
    "#     log_likelihoods.append(ldaScore)\n",
    "#     print(\"LDA\", n_topics, \":\", ldaScore)\n",
    "\n",
    "# # Plot log likelihoods\n",
    "# plt.figure(figsize=(12, 6))\n",
    "# plt.plot(n_topics_options, log_likelihoods, marker='o')\n",
    "# plt.xlabel('Number of Topics')\n",
    "# plt.ylabel('Log Likelihood')\n",
    "# plt.title('Log Likelihood by Number of Topics')\n",
    "# plt.show()"
   ]
  },
  {
   "cell_type": "markdown",
   "metadata": {},
   "source": [
    "##### Determining Model with highest Coherence score from range of Topics"
   ]
  },
  {
   "cell_type": "code",
   "execution_count": 11,
   "metadata": {},
   "outputs": [
    {
     "name": "stdout",
     "output_type": "stream",
     "text": [
      "Starting 6\n",
      "Model instantiated\n"
     ]
    },
    {
     "name": "stderr",
     "output_type": "stream",
     "text": [
      "/Users/biboy/Library/Python/3.9/lib/python/site-packages/urllib3/__init__.py:35: NotOpenSSLWarning: urllib3 v2 only supports OpenSSL 1.1.1+, currently the 'ssl' module is compiled with 'LibreSSL 2.8.3'. See: https://github.com/urllib3/urllib3/issues/3020\n",
      "  warnings.warn(\n",
      "/Users/biboy/Library/Python/3.9/lib/python/site-packages/urllib3/__init__.py:35: NotOpenSSLWarning: urllib3 v2 only supports OpenSSL 1.1.1+, currently the 'ssl' module is compiled with 'LibreSSL 2.8.3'. See: https://github.com/urllib3/urllib3/issues/3020\n",
      "  warnings.warn(\n",
      "/Users/biboy/Library/Python/3.9/lib/python/site-packages/urllib3/__init__.py:35: NotOpenSSLWarning: urllib3 v2 only supports OpenSSL 1.1.1+, currently the 'ssl' module is compiled with 'LibreSSL 2.8.3'. See: https://github.com/urllib3/urllib3/issues/3020\n",
      "  warnings.warn(\n",
      "/Users/biboy/Library/Python/3.9/lib/python/site-packages/urllib3/__init__.py:35: NotOpenSSLWarning: urllib3 v2 only supports OpenSSL 1.1.1+, currently the 'ssl' module is compiled with 'LibreSSL 2.8.3'. See: https://github.com/urllib3/urllib3/issues/3020\n",
      "  warnings.warn(\n",
      "/Users/biboy/Library/Python/3.9/lib/python/site-packages/urllib3/__init__.py:35: NotOpenSSLWarning: urllib3 v2 only supports OpenSSL 1.1.1+, currently the 'ssl' module is compiled with 'LibreSSL 2.8.3'. See: https://github.com/urllib3/urllib3/issues/3020\n",
      "  warnings.warn(\n",
      "/Users/biboy/Library/Python/3.9/lib/python/site-packages/urllib3/__init__.py:35: NotOpenSSLWarning: urllib3 v2 only supports OpenSSL 1.1.1+, currently the 'ssl' module is compiled with 'LibreSSL 2.8.3'. See: https://github.com/urllib3/urllib3/issues/3020\n",
      "  warnings.warn(\n",
      "/Users/biboy/Library/Python/3.9/lib/python/site-packages/urllib3/__init__.py:35: NotOpenSSLWarning: urllib3 v2 only supports OpenSSL 1.1.1+, currently the 'ssl' module is compiled with 'LibreSSL 2.8.3'. See: https://github.com/urllib3/urllib3/issues/3020\n",
      "  warnings.warn(\n"
     ]
    },
    {
     "name": "stdout",
     "output_type": "stream",
     "text": [
      "LDA 6 : 0.32938387200324193\n",
      "Top words per topic:\n",
      "Topic #0: 0.042*\"brutish;\" + 0.013*\"home/gallery\" + 0.010*\"geeky,\" + 0.009*\"Rubens),\" + 0.008*\"childen\" + 0.008*\"'Nenek\" + 0.006*\"pinch.\" + 0.006*\"z'n\" + 0.005*\"ensemble,\" + 0.005*\"shootout.\"\n",
      "Topic #1: 0.014*\"Koyama,\" + 0.012*\"umutsuzluğu,\" + 0.012*\"Tibbett\" + 0.010*\"Damnation\" + 0.008*\"drag--\" + 0.007*\"Disappear\" + 0.007*\"1felco\" + 0.007*\"École\" + 0.007*\"sour-sweet\" + 0.006*\"incense.\"\n",
      "Topic #2: 0.007*\"dream—or\" + 0.005*\"Time\"-Cinderella,\" + 0.005*\"Priam\" + 0.004*\"hibakusha,\" + 0.004*\"Marschall\" + 0.004*\"Zembla,\" + 0.004*\"Ibaraki\" + 0.004*\"Wareheim's\" + 0.003*\"Moullet.\" + 0.003*\"mysteriously\"\n",
      "Topic #3: 0.016*\"Tuschinski\" + 0.006*\"screenwriters.\" + 0.005*\"Auno\" + 0.004*\"Samford\" + 0.004*\"largo\" + 0.004*\"Babli\" + 0.004*\"couldn't'\" + 0.004*\"iced.\" + 0.004*\"incense.\" + 0.004*\"Merced\"\n",
      "Topic #4: 0.013*\"pinch.\" + 0.010*\"Tuschinski\" + 0.009*\"1felco\" + 0.009*\"beers\" + 0.009*\"Koyama,\" + 0.008*\"throat-clenching\" + 0.007*\"Figueres\" + 0.007*\"Samford\" + 0.005*\"clansman,\" + 0.005*\"funny\"\n",
      "Topic #5: 0.010*\"eating.\" + 0.007*\"undercarriage\" + 0.006*\"‘Corsini\" + 0.004*\"Russian-Turkish\" + 0.004*\"Florey\" + 0.004*\"smoothly.\" + 0.004*\"attentiveness.\" + 0.004*\"figuratively,\" + 0.003*\"self-representation.\" + 0.003*\"\"future\"\"\n",
      "Starting 7\n"
     ]
    },
    {
     "ename": "KeyboardInterrupt",
     "evalue": "",
     "output_type": "error",
     "traceback": [
      "\u001b[0;31m---------------------------------------------------------------------------\u001b[0m",
      "\u001b[0;31mKeyboardInterrupt\u001b[0m                         Traceback (most recent call last)",
      "Cell \u001b[0;32mIn[11], line 6\u001b[0m\n\u001b[1;32m      4\u001b[0m \u001b[38;5;28;01mfor\u001b[39;00m n_topics \u001b[38;5;129;01min\u001b[39;00m selected_range:\n\u001b[1;32m      5\u001b[0m     \u001b[38;5;28mprint\u001b[39m(\u001b[38;5;124m\"\u001b[39m\u001b[38;5;124mStarting\u001b[39m\u001b[38;5;124m\"\u001b[39m, n_topics)\n\u001b[0;32m----> 6\u001b[0m     lda_model \u001b[38;5;241m=\u001b[39m \u001b[43mLdaModel\u001b[49m\u001b[43m(\u001b[49m\u001b[43mcorpus\u001b[49m\u001b[38;5;241;43m=\u001b[39;49m\u001b[43mcorpus\u001b[49m\u001b[43m,\u001b[49m\u001b[43m \u001b[49m\u001b[43mid2word\u001b[49m\u001b[38;5;241;43m=\u001b[39;49m\u001b[43mid2word\u001b[49m\u001b[43m,\u001b[49m\u001b[43m \u001b[49m\u001b[43mnum_topics\u001b[49m\u001b[38;5;241;43m=\u001b[39;49m\u001b[43mn_topics\u001b[49m\u001b[43m,\u001b[49m\u001b[43m \u001b[49m\u001b[43mpasses\u001b[49m\u001b[38;5;241;43m=\u001b[39;49m\u001b[38;5;241;43m10\u001b[39;49m\u001b[43m,\u001b[49m\u001b[43m \u001b[49m\u001b[43mrandom_state\u001b[49m\u001b[38;5;241;43m=\u001b[39;49m\u001b[38;5;241;43m0\u001b[39;49m\u001b[43m)\u001b[49m\n\u001b[1;32m      7\u001b[0m     \u001b[38;5;28mprint\u001b[39m(\u001b[38;5;124m\"\u001b[39m\u001b[38;5;124mModel instantiated\u001b[39m\u001b[38;5;124m\"\u001b[39m)\n\u001b[1;32m      8\u001b[0m     models\u001b[38;5;241m.\u001b[39mappend(lda_model)\n",
      "File \u001b[0;32m~/Library/Python/3.9/lib/python/site-packages/gensim/models/ldamodel.py:521\u001b[0m, in \u001b[0;36mLdaModel.__init__\u001b[0;34m(self, corpus, num_topics, id2word, distributed, chunksize, passes, update_every, alpha, eta, decay, offset, eval_every, iterations, gamma_threshold, minimum_probability, random_state, ns_conf, minimum_phi_value, per_word_topics, callbacks, dtype)\u001b[0m\n\u001b[1;32m    519\u001b[0m use_numpy \u001b[38;5;241m=\u001b[39m \u001b[38;5;28mself\u001b[39m\u001b[38;5;241m.\u001b[39mdispatcher \u001b[38;5;129;01mis\u001b[39;00m \u001b[38;5;129;01mnot\u001b[39;00m \u001b[38;5;28;01mNone\u001b[39;00m\n\u001b[1;32m    520\u001b[0m start \u001b[38;5;241m=\u001b[39m time\u001b[38;5;241m.\u001b[39mtime()\n\u001b[0;32m--> 521\u001b[0m \u001b[38;5;28;43mself\u001b[39;49m\u001b[38;5;241;43m.\u001b[39;49m\u001b[43mupdate\u001b[49m\u001b[43m(\u001b[49m\u001b[43mcorpus\u001b[49m\u001b[43m,\u001b[49m\u001b[43m \u001b[49m\u001b[43mchunks_as_numpy\u001b[49m\u001b[38;5;241;43m=\u001b[39;49m\u001b[43muse_numpy\u001b[49m\u001b[43m)\u001b[49m\n\u001b[1;32m    522\u001b[0m \u001b[38;5;28mself\u001b[39m\u001b[38;5;241m.\u001b[39madd_lifecycle_event(\n\u001b[1;32m    523\u001b[0m     \u001b[38;5;124m\"\u001b[39m\u001b[38;5;124mcreated\u001b[39m\u001b[38;5;124m\"\u001b[39m,\n\u001b[1;32m    524\u001b[0m     msg\u001b[38;5;241m=\u001b[39m\u001b[38;5;124mf\u001b[39m\u001b[38;5;124m\"\u001b[39m\u001b[38;5;124mtrained \u001b[39m\u001b[38;5;132;01m{\u001b[39;00m\u001b[38;5;28mself\u001b[39m\u001b[38;5;132;01m}\u001b[39;00m\u001b[38;5;124m in \u001b[39m\u001b[38;5;132;01m{\u001b[39;00mtime\u001b[38;5;241m.\u001b[39mtime()\u001b[38;5;250m \u001b[39m\u001b[38;5;241m-\u001b[39m\u001b[38;5;250m \u001b[39mstart\u001b[38;5;132;01m:\u001b[39;00m\u001b[38;5;124m.2f\u001b[39m\u001b[38;5;132;01m}\u001b[39;00m\u001b[38;5;124ms\u001b[39m\u001b[38;5;124m\"\u001b[39m,\n\u001b[1;32m    525\u001b[0m )\n",
      "File \u001b[0;32m~/Library/Python/3.9/lib/python/site-packages/gensim/models/ldamodel.py:1020\u001b[0m, in \u001b[0;36mLdaModel.update\u001b[0;34m(self, corpus, chunksize, decay, offset, passes, update_every, eval_every, iterations, gamma_threshold, chunks_as_numpy)\u001b[0m\n\u001b[1;32m   1018\u001b[0m     logger\u001b[38;5;241m.\u001b[39minfo(\u001b[38;5;124m\"\u001b[39m\u001b[38;5;124mreached the end of input; now waiting for all remaining jobs to finish\u001b[39m\u001b[38;5;124m\"\u001b[39m)\n\u001b[1;32m   1019\u001b[0m     other \u001b[38;5;241m=\u001b[39m \u001b[38;5;28mself\u001b[39m\u001b[38;5;241m.\u001b[39mdispatcher\u001b[38;5;241m.\u001b[39mgetstate()\n\u001b[0;32m-> 1020\u001b[0m \u001b[38;5;28;43mself\u001b[39;49m\u001b[38;5;241;43m.\u001b[39;49m\u001b[43mdo_mstep\u001b[49m\u001b[43m(\u001b[49m\u001b[43mrho\u001b[49m\u001b[43m(\u001b[49m\u001b[43m)\u001b[49m\u001b[43m,\u001b[49m\u001b[43m \u001b[49m\u001b[43mother\u001b[49m\u001b[43m,\u001b[49m\u001b[43m \u001b[49m\u001b[43mpass_\u001b[49m\u001b[43m \u001b[49m\u001b[38;5;241;43m>\u001b[39;49m\u001b[43m \u001b[49m\u001b[38;5;241;43m0\u001b[39;49m\u001b[43m)\u001b[49m\n\u001b[1;32m   1021\u001b[0m \u001b[38;5;28;01mdel\u001b[39;00m other  \u001b[38;5;66;03m# frees up memory\u001b[39;00m\n\u001b[1;32m   1023\u001b[0m \u001b[38;5;28;01mif\u001b[39;00m \u001b[38;5;28mself\u001b[39m\u001b[38;5;241m.\u001b[39mdispatcher:\n",
      "File \u001b[0;32m~/Library/Python/3.9/lib/python/site-packages/gensim/models/ldamodel.py:1066\u001b[0m, in \u001b[0;36mLdaModel.do_mstep\u001b[0;34m(self, rho, other, extra_pass)\u001b[0m\n\u001b[1;32m   1063\u001b[0m logger\u001b[38;5;241m.\u001b[39mdebug(\u001b[38;5;124m\"\u001b[39m\u001b[38;5;124mupdating topics\u001b[39m\u001b[38;5;124m\"\u001b[39m)\n\u001b[1;32m   1064\u001b[0m \u001b[38;5;66;03m# update self with the new blend; also keep track of how much did\u001b[39;00m\n\u001b[1;32m   1065\u001b[0m \u001b[38;5;66;03m# the topics change through this update, to assess convergence\u001b[39;00m\n\u001b[0;32m-> 1066\u001b[0m previous_Elogbeta \u001b[38;5;241m=\u001b[39m \u001b[38;5;28;43mself\u001b[39;49m\u001b[38;5;241;43m.\u001b[39;49m\u001b[43mstate\u001b[49m\u001b[38;5;241;43m.\u001b[39;49m\u001b[43mget_Elogbeta\u001b[49m\u001b[43m(\u001b[49m\u001b[43m)\u001b[49m\n\u001b[1;32m   1067\u001b[0m \u001b[38;5;28mself\u001b[39m\u001b[38;5;241m.\u001b[39mstate\u001b[38;5;241m.\u001b[39mblend(rho, other)\n\u001b[1;32m   1069\u001b[0m current_Elogbeta \u001b[38;5;241m=\u001b[39m \u001b[38;5;28mself\u001b[39m\u001b[38;5;241m.\u001b[39mstate\u001b[38;5;241m.\u001b[39mget_Elogbeta()\n",
      "File \u001b[0;32m~/Library/Python/3.9/lib/python/site-packages/gensim/models/ldamodel.py:282\u001b[0m, in \u001b[0;36mLdaState.get_Elogbeta\u001b[0;34m(self)\u001b[0m\n\u001b[1;32m    274\u001b[0m \u001b[38;5;28;01mdef\u001b[39;00m \u001b[38;5;21mget_Elogbeta\u001b[39m(\u001b[38;5;28mself\u001b[39m):\n\u001b[1;32m    275\u001b[0m \u001b[38;5;250m    \u001b[39m\u001b[38;5;124;03m\"\"\"Get the log (posterior) probabilities for each topic.\u001b[39;00m\n\u001b[1;32m    276\u001b[0m \n\u001b[1;32m    277\u001b[0m \u001b[38;5;124;03m    Returns\u001b[39;00m\n\u001b[0;32m   (...)\u001b[0m\n\u001b[1;32m    280\u001b[0m \u001b[38;5;124;03m        Posterior probabilities for each topic.\u001b[39;00m\n\u001b[1;32m    281\u001b[0m \u001b[38;5;124;03m    \"\"\"\u001b[39;00m\n\u001b[0;32m--> 282\u001b[0m     \u001b[38;5;28;01mreturn\u001b[39;00m \u001b[43mdirichlet_expectation\u001b[49m\u001b[43m(\u001b[49m\u001b[38;5;28;43mself\u001b[39;49m\u001b[38;5;241;43m.\u001b[39;49m\u001b[43mget_lambda\u001b[49m\u001b[43m(\u001b[49m\u001b[43m)\u001b[49m\u001b[43m)\u001b[49m\n",
      "\u001b[0;31mKeyboardInterrupt\u001b[0m: "
     ]
    }
   ],
   "source": [
    "selected_range = range(6,8)  # Selecting a range based on the log likelihood plot (TBD)\n",
    "coherence_scores = []\n",
    "models = []\n",
    "for n_topics in selected_range:\n",
    "    print(\"Starting\", n_topics)\n",
    "    lda_model = LdaModel(corpus=corpus, id2word=id2word, num_topics=n_topics, passes=10, random_state=0)\n",
    "    print(\"Model instantiated\")\n",
    "    models.append(lda_model)\n",
    "    \n",
    "    # Calculate coherence score\n",
    "    cm = CoherenceModel(model=lda_model, texts=tokenized_descriptions, dictionary=id2word, coherence='c_v')\n",
    "    coherence = cm.get_coherence()\n",
    "    print(\"LDA\", n_topics, \":\", coherence)\n",
    "    coherence_scores.append(coherence) \n",
    "\n",
    "    # Print top words per topic\n",
    "    n_top_words = 15\n",
    "\n",
    "    def print_top_words(model, n_top_words):\n",
    "        for idx, topic in model.print_topics(-1):\n",
    "            print(f\"Topic #{idx}: {topic}\")\n",
    "\n",
    "    print(\"Top words per topic:\")\n",
    "    print_top_words(lda_model, n_top_words)\n",
    "\n",
    "\n",
    "# Plot coherence scores\n",
    "plt.figure(figsize=(12, 6))\n",
    "plt.plot(list(selected_range), coherence_scores, marker='o')\n",
    "plt.xlabel('Number of Topics')\n",
    "plt.ylabel('Coherence Score')\n",
    "plt.title('Topic Coherence by Number of Topics')\n",
    "plt.show()\n",
    "\n",
    "# Select the model with the highest coherence score\n",
    "best_topic_n = selected_range[np.argmax(coherence_scores)]\n",
    "best_lda_model = models[np.argmax(coherence_scores)]\n",
    "lda_transformed = best_lda_model.get_document_topics(corpus, minimum_probability=0)"
   ]
  },
  {
   "cell_type": "markdown",
   "metadata": {},
   "source": [
    "#### Fitting to K-means Model and Determining Optimal Clusters"
   ]
  },
  {
   "cell_type": "code",
   "execution_count": null,
   "metadata": {},
   "outputs": [],
   "source": [
    "silhouette_scores = []\n",
    "for k in range(2, 11):\n",
    "    kmeans = KMeans(n_clusters=k, random_state=0)\n",
    "    kmeans.fit(lda_transformed)\n",
    "    score = silhouette_score(lda_transformed, kmeans.labels_)\n",
    "    silhouette_scores.append(score)\n",
    "\n",
    "# Plot silhouette scores\n",
    "plt.figure(figsize=(12, 6))\n",
    "plt.plot(range(2, 11), silhouette_scores, marker='o')\n",
    "plt.xlabel('Number of Clusters')\n",
    "plt.ylabel('Silhouette Score')\n",
    "plt.title('Silhouette Score vs Number of Clusters')\n",
    "plt.show()\n",
    "\n",
    "# Select the optimal number of clusters\n",
    "optimal_clusters = silhouette_scores.index(max(silhouette_scores)) + 2\n",
    "kmeans_final = KMeans(n_clusters=optimal_clusters, random_state=0)\n",
    "kmeans_final.fit(lda_transformed)"
   ]
  },
  {
   "cell_type": "markdown",
   "metadata": {},
   "source": [
    "#### Results and Plots"
   ]
  },
  {
   "cell_type": "code",
   "execution_count": null,
   "metadata": {},
   "outputs": [],
   "source": [
    "movies['Cluster'] = kmeans_final.labels_\n",
    "\n",
    "# Plot clusters\n",
    "plt.figure(figsize=(10, 5))\n",
    "plt.hist(movies['Cluster'], bins=optimal_clusters, alpha=0.7, rwidth=0.85)\n",
    "plt.xlabel('Cluster')\n",
    "plt.ylabel('Number of Movies')\n",
    "plt.title('Distribution of Movies Across Clusters')\n",
    "plt.xticks(range(optimal_clusters))\n",
    "plt.show()"
   ]
  }
 ],
 "metadata": {
  "kernelspec": {
   "display_name": "Python 3",
   "language": "python",
   "name": "python3"
  },
  "language_info": {
   "codemirror_mode": {
    "name": "ipython",
    "version": 3
   },
   "file_extension": ".py",
   "mimetype": "text/x-python",
   "name": "python",
   "nbconvert_exporter": "python",
   "pygments_lexer": "ipython3",
   "version": "3.9.6"
  }
 },
 "nbformat": 4,
 "nbformat_minor": 2
}
