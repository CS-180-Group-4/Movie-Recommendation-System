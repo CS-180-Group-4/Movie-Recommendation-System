{
 "cells": [
  {
   "cell_type": "markdown",
   "metadata": {},
   "source": [
    "## Preliminaries"
   ]
  },
  {
   "cell_type": "markdown",
   "metadata": {},
   "source": [
    "#### Imports"
   ]
  },
  {
   "cell_type": "code",
   "execution_count": 90,
   "metadata": {},
   "outputs": [],
   "source": [
    "import sys\n",
    "import pandas as pd\n",
    "import matplotlib.pyplot as plt\n",
    "import matplotlib.cm as cm\n",
    "import numpy as np\n",
    "\n",
    "\n",
    "from time import time\n",
    "from sklearn.feature_extraction.text import TfidfVectorizer\n",
    "from sklearn.cluster import KMeans\n",
    "from sklearn.model_selection import train_test_split\n",
    "from sklearn.decomposition import TruncatedSVD\n",
    "from sklearn.pipeline import make_pipeline\n",
    "from sklearn.preprocessing import Normalizer\n",
    "from sklearn.metrics import silhouette_samples, silhouette_score"
   ]
  },
  {
   "cell_type": "code",
   "execution_count": 2,
   "metadata": {},
   "outputs": [],
   "source": [
    "# Allows auto reloading of modules\n",
    "%load_ext autoreload\n",
    "%autoreload 2"
   ]
  },
  {
   "cell_type": "code",
   "execution_count": 3,
   "metadata": {},
   "outputs": [],
   "source": [
    "# Add path to src folder to the path variable \n",
    "PATH_TO_SRC = \"./src\"\n",
    "\n",
    "if PATH_TO_SRC not in sys.path:\n",
    "  sys.path.append(PATH_TO_SRC)"
   ]
  },
  {
   "cell_type": "code",
   "execution_count": 94,
   "metadata": {},
   "outputs": [],
   "source": [
    "from data_preprocessor import DataPreprocessor\n",
    "from data_clusterer import DataClusterer"
   ]
  },
  {
   "cell_type": "markdown",
   "metadata": {},
   "source": [
    "#### Parameters"
   ]
  },
  {
   "cell_type": "code",
   "execution_count": 98,
   "metadata": {},
   "outputs": [],
   "source": [
    "MOVIES_PATH = \"./dataset/movies.csv\"\n",
    "GENRES_PATH = \"./dataset/genres.csv\"\n",
    "\n",
    "TEST_SIZE = 0.3\n",
    "RANDOM_STATE = 42\n",
    "\n",
    "MAX_DF = 0.3 # Ignore terms that appear in > 50% of the entries\n",
    "MIN_DF = 3 # Ignore terms that appear in < 5 entries\n",
    "STOP_WORDS = \"english\"\n",
    "\n",
    "N_COMPONENTS = 100\n",
    "NORMALIZER_COPY = False\n",
    "\n",
    "N_CLUSTERS = 20\n",
    "MAX_ITER = 100\n",
    "N_INIT = 1"
   ]
  },
  {
   "cell_type": "markdown",
   "metadata": {},
   "source": [
    "#### Instantiated classes"
   ]
  },
  {
   "cell_type": "code",
   "execution_count": 76,
   "metadata": {},
   "outputs": [],
   "source": [
    "kmeans = KMeans(n_clusters=N_CLUSTERS, max_iter=MAX_ITER, n_init=N_INIT)"
   ]
  },
  {
   "cell_type": "markdown",
   "metadata": {},
   "source": [
    "## Preprocessing"
   ]
  },
  {
   "cell_type": "code",
   "execution_count": 118,
   "metadata": {},
   "outputs": [
    {
     "data": {
      "text/html": [
       "<div>\n",
       "<style scoped>\n",
       "    .dataframe tbody tr th:only-of-type {\n",
       "        vertical-align: middle;\n",
       "    }\n",
       "\n",
       "    .dataframe tbody tr th {\n",
       "        vertical-align: top;\n",
       "    }\n",
       "\n",
       "    .dataframe thead th {\n",
       "        text-align: right;\n",
       "    }\n",
       "</style>\n",
       "<table border=\"1\" class=\"dataframe\">\n",
       "  <thead>\n",
       "    <tr style=\"text-align: right;\">\n",
       "      <th></th>\n",
       "      <th>id</th>\n",
       "      <th>name</th>\n",
       "      <th>date</th>\n",
       "      <th>tagline</th>\n",
       "      <th>description</th>\n",
       "      <th>minute</th>\n",
       "      <th>rating</th>\n",
       "    </tr>\n",
       "  </thead>\n",
       "  <tbody>\n",
       "    <tr>\n",
       "      <th>0</th>\n",
       "      <td>1000001</td>\n",
       "      <td>Barbie</td>\n",
       "      <td>2023.0</td>\n",
       "      <td>She's everything. He's just Ken.</td>\n",
       "      <td>Barbie and Ken are having the time of their li...</td>\n",
       "      <td>114.0</td>\n",
       "      <td>3.91</td>\n",
       "    </tr>\n",
       "    <tr>\n",
       "      <th>1</th>\n",
       "      <td>1000002</td>\n",
       "      <td>Parasite</td>\n",
       "      <td>2019.0</td>\n",
       "      <td>Act like you own the place.</td>\n",
       "      <td>All unemployed, Ki-taek's family takes peculia...</td>\n",
       "      <td>133.0</td>\n",
       "      <td>4.57</td>\n",
       "    </tr>\n",
       "    <tr>\n",
       "      <th>2</th>\n",
       "      <td>1000003</td>\n",
       "      <td>Everything Everywhere All at Once</td>\n",
       "      <td>2022.0</td>\n",
       "      <td>The universe is so much bigger than you realize.</td>\n",
       "      <td>An aging Chinese immigrant is swept up in an i...</td>\n",
       "      <td>140.0</td>\n",
       "      <td>4.32</td>\n",
       "    </tr>\n",
       "    <tr>\n",
       "      <th>3</th>\n",
       "      <td>1000004</td>\n",
       "      <td>Fight Club</td>\n",
       "      <td>1999.0</td>\n",
       "      <td>Mischief. Mayhem. Soap.</td>\n",
       "      <td>A ticking-time-bomb insomniac and a slippery s...</td>\n",
       "      <td>139.0</td>\n",
       "      <td>4.27</td>\n",
       "    </tr>\n",
       "    <tr>\n",
       "      <th>4</th>\n",
       "      <td>1000005</td>\n",
       "      <td>Interstellar</td>\n",
       "      <td>2014.0</td>\n",
       "      <td>Mankind was born on Earth. It was never meant ...</td>\n",
       "      <td>The adventures of a group of explorers who mak...</td>\n",
       "      <td>169.0</td>\n",
       "      <td>4.32</td>\n",
       "    </tr>\n",
       "  </tbody>\n",
       "</table>\n",
       "</div>"
      ],
      "text/plain": [
       "        id                               name    date  \\\n",
       "0  1000001                             Barbie  2023.0   \n",
       "1  1000002                           Parasite  2019.0   \n",
       "2  1000003  Everything Everywhere All at Once  2022.0   \n",
       "3  1000004                         Fight Club  1999.0   \n",
       "4  1000005                       Interstellar  2014.0   \n",
       "\n",
       "                                             tagline  \\\n",
       "0                   She's everything. He's just Ken.   \n",
       "1                        Act like you own the place.   \n",
       "2   The universe is so much bigger than you realize.   \n",
       "3                            Mischief. Mayhem. Soap.   \n",
       "4  Mankind was born on Earth. It was never meant ...   \n",
       "\n",
       "                                         description  minute  rating  \n",
       "0  Barbie and Ken are having the time of their li...   114.0    3.91  \n",
       "1  All unemployed, Ki-taek's family takes peculia...   133.0    4.57  \n",
       "2  An aging Chinese immigrant is swept up in an i...   140.0    4.32  \n",
       "3  A ticking-time-bomb insomniac and a slippery s...   139.0    4.27  \n",
       "4  The adventures of a group of explorers who mak...   169.0    4.32  "
      ]
     },
     "execution_count": 118,
     "metadata": {},
     "output_type": "execute_result"
    }
   ],
   "source": [
    "preprocessor = DataPreprocessor(MOVIES_PATH, GENRES_PATH)\n",
    "preprocessor.df_movies.head()"
   ]
  },
  {
   "cell_type": "code",
   "execution_count": 119,
   "metadata": {},
   "outputs": [
    {
     "data": {
      "text/html": [
       "<div>\n",
       "<style scoped>\n",
       "    .dataframe tbody tr th:only-of-type {\n",
       "        vertical-align: middle;\n",
       "    }\n",
       "\n",
       "    .dataframe tbody tr th {\n",
       "        vertical-align: top;\n",
       "    }\n",
       "\n",
       "    .dataframe thead th {\n",
       "        text-align: right;\n",
       "    }\n",
       "</style>\n",
       "<table border=\"1\" class=\"dataframe\">\n",
       "  <thead>\n",
       "    <tr style=\"text-align: right;\">\n",
       "      <th></th>\n",
       "      <th>id</th>\n",
       "      <th>genre</th>\n",
       "    </tr>\n",
       "  </thead>\n",
       "  <tbody>\n",
       "    <tr>\n",
       "      <th>0</th>\n",
       "      <td>1000001</td>\n",
       "      <td>Comedy</td>\n",
       "    </tr>\n",
       "    <tr>\n",
       "      <th>1</th>\n",
       "      <td>1000001</td>\n",
       "      <td>Fantasy</td>\n",
       "    </tr>\n",
       "    <tr>\n",
       "      <th>2</th>\n",
       "      <td>1000001</td>\n",
       "      <td>Adventure</td>\n",
       "    </tr>\n",
       "    <tr>\n",
       "      <th>3</th>\n",
       "      <td>1000002</td>\n",
       "      <td>Comedy</td>\n",
       "    </tr>\n",
       "    <tr>\n",
       "      <th>4</th>\n",
       "      <td>1000002</td>\n",
       "      <td>Thriller</td>\n",
       "    </tr>\n",
       "  </tbody>\n",
       "</table>\n",
       "</div>"
      ],
      "text/plain": [
       "        id      genre\n",
       "0  1000001     Comedy\n",
       "1  1000001    Fantasy\n",
       "2  1000001  Adventure\n",
       "3  1000002     Comedy\n",
       "4  1000002   Thriller"
      ]
     },
     "execution_count": 119,
     "metadata": {},
     "output_type": "execute_result"
    }
   ],
   "source": [
    "preprocessor.df_genres.head()"
   ]
  },
  {
   "cell_type": "markdown",
   "metadata": {},
   "source": [
    "#### Data Cleaning and Splitting"
   ]
  },
  {
   "cell_type": "code",
   "execution_count": 120,
   "metadata": {},
   "outputs": [
    {
     "name": "stdout",
     "output_type": "stream",
     "text": [
      "Reduced Length:  540740\n",
      "Reduced Columns:  Index(['id', 'genre', 'name', 'description', 'rating'], dtype='object')\n"
     ]
    }
   ],
   "source": [
    "preprocessor.handleDataFrame()\n",
    "X_train, X_test, y_train, y_test = preprocessor.splitData(TEST_SIZE, RANDOM_STATE)\n",
    "X_train_desc_only = X_train.description"
   ]
  },
  {
   "cell_type": "markdown",
   "metadata": {},
   "source": [
    "#### Vectorization"
   ]
  },
  {
   "cell_type": "code",
   "execution_count": 121,
   "metadata": {},
   "outputs": [
    {
     "name": "stdout",
     "output_type": "stream",
     "text": [
      "Vectorized in 7.166 s\n",
      "# of Samples: 378518\n",
      "# of Features: 81591\n",
      "% of Nonzero Entries: 0.010\n"
     ]
    }
   ],
   "source": [
    "X_tfidf, features = preprocessor.vectorizeData(X_train_desc_only, MAX_DF, MIN_DF, STOP_WORDS)"
   ]
  },
  {
   "cell_type": "markdown",
   "metadata": {},
   "source": [
    "#### Dimensionality Reduction"
   ]
  },
  {
   "cell_type": "code",
   "execution_count": 122,
   "metadata": {},
   "outputs": [
    {
     "name": "stdout",
     "output_type": "stream",
     "text": [
      "# of Genres:  19\n",
      "Unique Genres:\n",
      "                     id\n",
      "genre                  \n",
      "Action            19194\n",
      "Adventure          8827\n",
      "Animation         39939\n",
      "Comedy            89726\n",
      "Crime             15459\n",
      "Documentary      138760\n",
      "Drama            153192\n",
      "Family            12476\n",
      "Fantasy            9163\n",
      "History            7233\n",
      "Horror            31020\n",
      "Music             29414\n",
      "Mystery            8362\n",
      "Romance           23825\n",
      "Science Fiction    9519\n",
      "TV Movie          10236\n",
      "Thriller          21435\n",
      "War                4647\n",
      "Western            6205\n",
      "LSA done in 16.075 s\n",
      "Explained variance of the SVD step: 7.8%\n"
     ]
    }
   ],
   "source": [
    "genres = preprocessor.countGenres()\n",
    "X_lsa, lsa = preprocessor.reduceDim(X_tfidf, N_COMPONENTS, NORMALIZER_COPY)"
   ]
  },
  {
   "cell_type": "markdown",
   "metadata": {},
   "source": [
    "## Clustering and Optmizing K"
   ]
  },
  {
   "cell_type": "code",
   "execution_count": 99,
   "metadata": {},
   "outputs": [
    {
     "data": {
      "image/png": "[encoded data removed]",
      "text/plain": [
       "<Figure size 640x480 with 1 Axes>"
      ]
     },
     "metadata": {},
     "output_type": "display_data"
    }
   ],
   "source": [
    "clusterer = DataClusterer(X_lsa, N_CLUSTERS, MAX_ITER, N_INIT)\n",
    "K, inertias = clusterer.computeKMeansInertia()"
   ]
  },
  {
   "cell_type": "code",
   "execution_count": 104,
   "metadata": {},
   "outputs": [
    {
     "name": "stdout",
     "output_type": "stream",
     "text": [
      "Cluster 0: old year years new family mother girl life father boy school time home friend friends son lives daughter young 12 \n",
      "Cluster 1: film short directed director feature based animated experimental films new silent produced time work life festival people footage history shot \n",
      "Cluster 2: life new family young film years death work time change real people living way woman lives career mother wife father \n",
      "Cluster 3: young woman girl husband finds family mother father boy couple home men meets new man beautiful people women help mysterious \n",
      "Cluster 4: live band music concert tour rock album footage performance special songs dvd video recorded musical interviews featuring new singer filmed \n",
      "Cluster 5: man young life woman wife finds old family father home meets mysterious gets tries night new time death girl girlfriend \n",
      "Cluster 6: love falls girl fall life young man meets woman daughter story father family relationship time married new finds beautiful friend \n",
      "Cluster 7: series tv events film television films popular second episode entry murders episodes installment short new video documentary life stories world \n",
      "Cluster 8: war world ii civil german army american soldiers soldier film story japanese second years end military battle country life young \n",
      "Cluster 9: history people american human earth art journey like secret black team years work island space time new country power century \n",
      "Cluster 10: world new life people film ii time journey end years story team human way young like best place lives real \n",
      "Cluster 11: family friends new father home time wife girl school mother gets night help house daughter finds town friend son group \n",
      "Cluster 12: story tells based true life film love young family people years man set time told follows new girl short journey \n",
      "Cluster 13: documentary film short making history life interviews people feature footage director work world american filmmaker follows years explores art new \n",
      "Cluster 14: day life time lives modern new man young school years family night just work like people home world friends decides \n"
     ]
    }
   ],
   "source": [
    "optimal_k = 15\n",
    "centers, y_kmeans, inertia = clusterer.computeKMeans(optimal_k)\n",
    "clusterer.getClusters(optimal_k, centers, features, lsa)"
   ]
  },
  {
   "cell_type": "code",
   "execution_count": 142,
   "metadata": {},
   "outputs": [
    {
     "data": {
      "text/html": [
       "<div>\n",
       "<style scoped>\n",
       "    .dataframe tbody tr th:only-of-type {\n",
       "        vertical-align: middle;\n",
       "    }\n",
       "\n",
       "    .dataframe tbody tr th {\n",
       "        vertical-align: top;\n",
       "    }\n",
       "\n",
       "    .dataframe thead th {\n",
       "        text-align: right;\n",
       "    }\n",
       "</style>\n",
       "<table border=\"1\" class=\"dataframe\">\n",
       "  <thead>\n",
       "    <tr style=\"text-align: right;\">\n",
       "      <th></th>\n",
       "      <th>id</th>\n",
       "      <th>genre</th>\n",
       "      <th>name</th>\n",
       "      <th>description</th>\n",
       "      <th>rating</th>\n",
       "      <th>cluster</th>\n",
       "    </tr>\n",
       "  </thead>\n",
       "  <tbody>\n",
       "    <tr>\n",
       "      <th>3497</th>\n",
       "      <td>1003499</td>\n",
       "      <td>Comedy</td>\n",
       "      <td>Fullmetal Alchemist: Brotherhood</td>\n",
       "      <td>Edward and Alphonse Elric's reckless disregard...</td>\n",
       "      <td>4.63</td>\n",
       "      <td>8</td>\n",
       "    </tr>\n",
       "    <tr>\n",
       "      <th>182</th>\n",
       "      <td>1000183</td>\n",
       "      <td>History</td>\n",
       "      <td>Schindler's List</td>\n",
       "      <td>The true story of how businessman Oskar Schind...</td>\n",
       "      <td>4.51</td>\n",
       "      <td>8</td>\n",
       "    </tr>\n",
       "    <tr>\n",
       "      <th>1047</th>\n",
       "      <td>1001048</td>\n",
       "      <td>Drama</td>\n",
       "      <td>Ran</td>\n",
       "      <td>With Ran, legendary director Akira Kurosawa re...</td>\n",
       "      <td>4.50</td>\n",
       "      <td>8</td>\n",
       "    </tr>\n",
       "    <tr>\n",
       "      <th>452</th>\n",
       "      <td>1000453</td>\n",
       "      <td>Western</td>\n",
       "      <td>The Good, the Bad and the Ugly</td>\n",
       "      <td>While the Civil War rages on between the Union...</td>\n",
       "      <td>4.49</td>\n",
       "      <td>8</td>\n",
       "    </tr>\n",
       "    <tr>\n",
       "      <th>2859</th>\n",
       "      <td>1002861</td>\n",
       "      <td>War</td>\n",
       "      <td>The Human Condition I: No Greater Love</td>\n",
       "      <td>During the Second World War, Japanese conscien...</td>\n",
       "      <td>4.48</td>\n",
       "      <td>8</td>\n",
       "    </tr>\n",
       "    <tr>\n",
       "      <th>15</th>\n",
       "      <td>1000016</td>\n",
       "      <td>Thriller</td>\n",
       "      <td>The Dark Knight</td>\n",
       "      <td>Batman raises the stakes in his war on crime. ...</td>\n",
       "      <td>4.46</td>\n",
       "      <td>8</td>\n",
       "    </tr>\n",
       "    <tr>\n",
       "      <th>896</th>\n",
       "      <td>1000897</td>\n",
       "      <td>War</td>\n",
       "      <td>Paths of Glory</td>\n",
       "      <td>A commanding officer defends three scapegoats ...</td>\n",
       "      <td>4.45</td>\n",
       "      <td>8</td>\n",
       "    </tr>\n",
       "    <tr>\n",
       "      <th>259</th>\n",
       "      <td>1000260</td>\n",
       "      <td>Drama</td>\n",
       "      <td>Apocalypse Now</td>\n",
       "      <td>At the height of the Vietnam war, Captain Benj...</td>\n",
       "      <td>4.44</td>\n",
       "      <td>8</td>\n",
       "    </tr>\n",
       "    <tr>\n",
       "      <th>8232</th>\n",
       "      <td>1008252</td>\n",
       "      <td>Documentary</td>\n",
       "      <td>The Vietnam War</td>\n",
       "      <td>An immersive 360-degree narrative telling the ...</td>\n",
       "      <td>4.43</td>\n",
       "      <td>8</td>\n",
       "    </tr>\n",
       "    <tr>\n",
       "      <th>295</th>\n",
       "      <td>1000296</td>\n",
       "      <td>Drama</td>\n",
       "      <td>The Pianist</td>\n",
       "      <td>The true story of pianist Władysław Szpilman's...</td>\n",
       "      <td>4.36</td>\n",
       "      <td>8</td>\n",
       "    </tr>\n",
       "  </tbody>\n",
       "</table>\n",
       "</div>"
      ],
      "text/plain": [
       "           id        genre                                    name  \\\n",
       "3497  1003499       Comedy        Fullmetal Alchemist: Brotherhood   \n",
       "182   1000183      History                        Schindler's List   \n",
       "1047  1001048        Drama                                     Ran   \n",
       "452   1000453      Western          The Good, the Bad and the Ugly   \n",
       "2859  1002861          War  The Human Condition I: No Greater Love   \n",
       "15    1000016     Thriller                         The Dark Knight   \n",
       "896   1000897          War                          Paths of Glory   \n",
       "259   1000260        Drama                          Apocalypse Now   \n",
       "8232  1008252  Documentary                         The Vietnam War   \n",
       "295   1000296        Drama                             The Pianist   \n",
       "\n",
       "                                            description  rating  cluster  \n",
       "3497  Edward and Alphonse Elric's reckless disregard...    4.63        8  \n",
       "182   The true story of how businessman Oskar Schind...    4.51        8  \n",
       "1047  With Ran, legendary director Akira Kurosawa re...    4.50        8  \n",
       "452   While the Civil War rages on between the Union...    4.49        8  \n",
       "2859  During the Second World War, Japanese conscien...    4.48        8  \n",
       "15    Batman raises the stakes in his war on crime. ...    4.46        8  \n",
       "896   A commanding officer defends three scapegoats ...    4.45        8  \n",
       "259   At the height of the Vietnam war, Captain Benj...    4.44        8  \n",
       "8232  An immersive 360-degree narrative telling the ...    4.43        8  \n",
       "295   The true story of pianist Władysław Szpilman's...    4.36        8  "
      ]
     },
     "execution_count": 142,
     "metadata": {},
     "output_type": "execute_result"
    }
   ],
   "source": [
    "X_train_clustered = X_train.assign(cluster=y_kmeans)\n",
    "X_train_clustered.loc[X_train_clustered['cluster'] == 8].sort_values('rating', ascending=False).head(10)"
   ]
  }
 ],
 "metadata": {
  "kernelspec": {
   "display_name": "Python 3",
   "language": "python",
   "name": "python3"
  },
  "language_info": {
   "codemirror_mode": {
    "name": "ipython",
    "version": 3
   },
   "file_extension": ".py",
   "mimetype": "text/x-python",
   "name": "python",
   "nbconvert_exporter": "python",
   "pygments_lexer": "ipython3",
   "version": "3.12.2"
  }
 },
 "nbformat": 4,
 "nbformat_minor": 2
}
