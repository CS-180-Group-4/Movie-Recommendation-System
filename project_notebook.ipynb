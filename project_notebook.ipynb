{
 "cells": [
  {
   "cell_type": "markdown",
   "metadata": {},
   "source": [
    "## Preliminaries"
   ]
  },
  {
   "cell_type": "markdown",
   "metadata": {},
   "source": [
    "#### Imports"
   ]
  },
  {
   "cell_type": "code",
   "execution_count": 1,
   "metadata": {},
   "outputs": [],
   "source": [
    "import sys\n",
    "import pandas as pd\n",
    "import matplotlib.pyplot as plt\n",
    "import numpy as np\n",
    "\n",
    "from time import time\n",
    "from sklearn.feature_extraction.text import TfidfVectorizer\n",
    "from sklearn.cluster import KMeans\n",
    "from sklearn.model_selection import train_test_split\n",
    "from sklearn.decomposition import TruncatedSVD\n",
    "from sklearn.pipeline import make_pipeline\n",
    "from sklearn.preprocessing import Normalizer"
   ]
  },
  {
   "cell_type": "code",
   "execution_count": 2,
   "metadata": {},
   "outputs": [],
   "source": [
    "# Allows auto reloading of modules\n",
    "%load_ext autoreload\n",
    "%autoreload 2"
   ]
  },
  {
   "cell_type": "code",
   "execution_count": 3,
   "metadata": {},
   "outputs": [],
   "source": [
    "# Add path to src folder to the path variable \n",
    "PATH_TO_SRC = \"./src\"\n",
    "\n",
    "if PATH_TO_SRC not in sys.path:\n",
    "  sys.path.append(PATH_TO_SRC)"
   ]
  },
  {
   "cell_type": "code",
   "execution_count": 4,
   "metadata": {},
   "outputs": [],
   "source": [
    "from data_preprocessor import DataPreprocessor"
   ]
  },
  {
   "cell_type": "markdown",
   "metadata": {},
   "source": [
    "#### Parameters"
   ]
  },
  {
   "cell_type": "code",
   "execution_count": 40,
   "metadata": {},
   "outputs": [],
   "source": [
    "MOVIES_PATH = \"./dataset/movies.csv\"\n",
    "GENRES_PATH = \"./dataset/genres.csv\"\n",
    "\n",
    "TEST_SIZE = 0.3\n",
    "RANDOM_STATE = 42\n",
    "\n",
    "MAX_DF = 0.5 # Ignore terms that appear in > 50% of the entries\n",
    "MIN_DF = 5 # Ignore terms that appear in < 5 entries\n",
    "STOP_WORDS = \"english\"\n",
    "\n",
    "N_COMPONENTS = 100\n",
    "NORMALIZER_COPY = False\n",
    "\n",
    "N_CLUSTERS = 19\n",
    "MAX_ITER = 100\n",
    "N_INIT = 1"
   ]
  },
  {
   "cell_type": "markdown",
   "metadata": {},
   "source": [
    "#### Instantiated classes"
   ]
  },
  {
   "cell_type": "code",
   "execution_count": 53,
   "metadata": {},
   "outputs": [],
   "source": [
    "preprocessor = DataPreprocessor(MOVIES_PATH, GENRES_PATH)\n",
    "kmeans = KMeans(n_clusters=N_CLUSTERS, max_iter=MAX_ITER, n_init=N_INIT)"
   ]
  },
  {
   "cell_type": "markdown",
   "metadata": {},
   "source": [
    "## Preprocessing"
   ]
  },
  {
   "cell_type": "code",
   "execution_count": 54,
   "metadata": {},
   "outputs": [
    {
     "data": {
      "text/html": [
       "<div>\n",
       "<style scoped>\n",
       "    .dataframe tbody tr th:only-of-type {\n",
       "        vertical-align: middle;\n",
       "    }\n",
       "\n",
       "    .dataframe tbody tr th {\n",
       "        vertical-align: top;\n",
       "    }\n",
       "\n",
       "    .dataframe thead th {\n",
       "        text-align: right;\n",
       "    }\n",
       "</style>\n",
       "<table border=\"1\" class=\"dataframe\">\n",
       "  <thead>\n",
       "    <tr style=\"text-align: right;\">\n",
       "      <th></th>\n",
       "      <th>id</th>\n",
       "      <th>name</th>\n",
       "      <th>date</th>\n",
       "      <th>tagline</th>\n",
       "      <th>description</th>\n",
       "      <th>minute</th>\n",
       "      <th>rating</th>\n",
       "    </tr>\n",
       "  </thead>\n",
       "  <tbody>\n",
       "    <tr>\n",
       "      <th>0</th>\n",
       "      <td>1000001</td>\n",
       "      <td>Barbie</td>\n",
       "      <td>2023.0</td>\n",
       "      <td>She's everything. He's just Ken.</td>\n",
       "      <td>Barbie and Ken are having the time of their li...</td>\n",
       "      <td>114.0</td>\n",
       "      <td>3.91</td>\n",
       "    </tr>\n",
       "    <tr>\n",
       "      <th>1</th>\n",
       "      <td>1000002</td>\n",
       "      <td>Parasite</td>\n",
       "      <td>2019.0</td>\n",
       "      <td>Act like you own the place.</td>\n",
       "      <td>All unemployed, Ki-taek's family takes peculia...</td>\n",
       "      <td>133.0</td>\n",
       "      <td>4.57</td>\n",
       "    </tr>\n",
       "    <tr>\n",
       "      <th>2</th>\n",
       "      <td>1000003</td>\n",
       "      <td>Everything Everywhere All at Once</td>\n",
       "      <td>2022.0</td>\n",
       "      <td>The universe is so much bigger than you realize.</td>\n",
       "      <td>An aging Chinese immigrant is swept up in an i...</td>\n",
       "      <td>140.0</td>\n",
       "      <td>4.32</td>\n",
       "    </tr>\n",
       "    <tr>\n",
       "      <th>3</th>\n",
       "      <td>1000004</td>\n",
       "      <td>Fight Club</td>\n",
       "      <td>1999.0</td>\n",
       "      <td>Mischief. Mayhem. Soap.</td>\n",
       "      <td>A ticking-time-bomb insomniac and a slippery s...</td>\n",
       "      <td>139.0</td>\n",
       "      <td>4.27</td>\n",
       "    </tr>\n",
       "    <tr>\n",
       "      <th>4</th>\n",
       "      <td>1000005</td>\n",
       "      <td>Interstellar</td>\n",
       "      <td>2014.0</td>\n",
       "      <td>Mankind was born on Earth. It was never meant ...</td>\n",
       "      <td>The adventures of a group of explorers who mak...</td>\n",
       "      <td>169.0</td>\n",
       "      <td>4.32</td>\n",
       "    </tr>\n",
       "  </tbody>\n",
       "</table>\n",
       "</div>"
      ],
      "text/plain": [
       "        id                               name    date  \\\n",
       "0  1000001                             Barbie  2023.0   \n",
       "1  1000002                           Parasite  2019.0   \n",
       "2  1000003  Everything Everywhere All at Once  2022.0   \n",
       "3  1000004                         Fight Club  1999.0   \n",
       "4  1000005                       Interstellar  2014.0   \n",
       "\n",
       "                                             tagline  \\\n",
       "0                   She's everything. He's just Ken.   \n",
       "1                        Act like you own the place.   \n",
       "2   The universe is so much bigger than you realize.   \n",
       "3                            Mischief. Mayhem. Soap.   \n",
       "4  Mankind was born on Earth. It was never meant ...   \n",
       "\n",
       "                                         description  minute  rating  \n",
       "0  Barbie and Ken are having the time of their li...   114.0    3.91  \n",
       "1  All unemployed, Ki-taek's family takes peculia...   133.0    4.57  \n",
       "2  An aging Chinese immigrant is swept up in an i...   140.0    4.32  \n",
       "3  A ticking-time-bomb insomniac and a slippery s...   139.0    4.27  \n",
       "4  The adventures of a group of explorers who mak...   169.0    4.32  "
      ]
     },
     "execution_count": 54,
     "metadata": {},
     "output_type": "execute_result"
    }
   ],
   "source": [
    "preprocessor.df_movies.head()"
   ]
  },
  {
   "cell_type": "code",
   "execution_count": 55,
   "metadata": {},
   "outputs": [
    {
     "data": {
      "text/html": [
       "<div>\n",
       "<style scoped>\n",
       "    .dataframe tbody tr th:only-of-type {\n",
       "        vertical-align: middle;\n",
       "    }\n",
       "\n",
       "    .dataframe tbody tr th {\n",
       "        vertical-align: top;\n",
       "    }\n",
       "\n",
       "    .dataframe thead th {\n",
       "        text-align: right;\n",
       "    }\n",
       "</style>\n",
       "<table border=\"1\" class=\"dataframe\">\n",
       "  <thead>\n",
       "    <tr style=\"text-align: right;\">\n",
       "      <th></th>\n",
       "      <th>id</th>\n",
       "      <th>genre</th>\n",
       "    </tr>\n",
       "  </thead>\n",
       "  <tbody>\n",
       "    <tr>\n",
       "      <th>0</th>\n",
       "      <td>1000001</td>\n",
       "      <td>Comedy</td>\n",
       "    </tr>\n",
       "    <tr>\n",
       "      <th>1</th>\n",
       "      <td>1000001</td>\n",
       "      <td>Fantasy</td>\n",
       "    </tr>\n",
       "    <tr>\n",
       "      <th>2</th>\n",
       "      <td>1000001</td>\n",
       "      <td>Adventure</td>\n",
       "    </tr>\n",
       "    <tr>\n",
       "      <th>3</th>\n",
       "      <td>1000002</td>\n",
       "      <td>Comedy</td>\n",
       "    </tr>\n",
       "    <tr>\n",
       "      <th>4</th>\n",
       "      <td>1000002</td>\n",
       "      <td>Thriller</td>\n",
       "    </tr>\n",
       "  </tbody>\n",
       "</table>\n",
       "</div>"
      ],
      "text/plain": [
       "        id      genre\n",
       "0  1000001     Comedy\n",
       "1  1000001    Fantasy\n",
       "2  1000001  Adventure\n",
       "3  1000002     Comedy\n",
       "4  1000002   Thriller"
      ]
     },
     "execution_count": 55,
     "metadata": {},
     "output_type": "execute_result"
    }
   ],
   "source": [
    "preprocessor.df_genres.head()"
   ]
  },
  {
   "cell_type": "markdown",
   "metadata": {},
   "source": [
    "#### Vectorization"
   ]
  },
  {
   "cell_type": "code",
   "execution_count": 56,
   "metadata": {},
   "outputs": [
    {
     "name": "stdout",
     "output_type": "stream",
     "text": [
      "Reduced Length:  540740\n",
      "Reduced Columns:  Index(['id', 'genre', 'name', 'description', 'rating'], dtype='object')\n",
      "Vectorized in 7.312 s\n",
      "# of Samples: 378518\n",
      "# of Features: 58373\n",
      "% of Nonzero Entries: 0.014\n"
     ]
    }
   ],
   "source": [
    "preprocessor.handleDataFrame()\n",
    "X_train, X_test, y_train, y_test = preprocessor.splitData(TEST_SIZE, RANDOM_STATE)\n",
    "X_tfidf, features = preprocessor.vectorizeData(X_train, MAX_DF, MIN_DF, STOP_WORDS)"
   ]
  },
  {
   "cell_type": "markdown",
   "metadata": {},
   "source": [
    "#### Dimensionality Reduction"
   ]
  },
  {
   "cell_type": "code",
   "execution_count": 57,
   "metadata": {},
   "outputs": [
    {
     "name": "stdout",
     "output_type": "stream",
     "text": [
      "# of Genres:  19\n",
      "Unique Genres:\n",
      "                     id\n",
      "genre                  \n",
      "Action            19194\n",
      "Adventure          8827\n",
      "Animation         39939\n",
      "Comedy            89726\n",
      "Crime             15459\n",
      "Documentary      138760\n",
      "Drama            153192\n",
      "Family            12476\n",
      "Fantasy            9163\n",
      "History            7233\n",
      "Horror            31020\n",
      "Music             29414\n",
      "Mystery            8362\n",
      "Romance           23825\n",
      "Science Fiction    9519\n",
      "TV Movie          10236\n",
      "Thriller          21435\n",
      "War                4647\n",
      "Western            6205\n",
      "LSA done in 14.962 s\n",
      "Explained variance of the SVD step: 8.0%\n"
     ]
    }
   ],
   "source": [
    "genres = preprocessor.countGenres()\n",
    "X_lsa, lsa = preprocessor.reduceDim(X_tfidf, N_COMPONENTS, NORMALIZER_COPY)"
   ]
  },
  {
   "cell_type": "markdown",
   "metadata": {},
   "source": [
    "## Clustering"
   ]
  },
  {
   "cell_type": "code",
   "execution_count": 61,
   "metadata": {},
   "outputs": [],
   "source": [
    "kmeans.fit(X_lsa)\n",
    "\n",
    "y_kmeans = kmeans.predict(X_lsa) # Let kmeans assign the clusters/labels\n",
    "centers = kmeans.cluster_centers_\n",
    "inertia = kmeans.inertia_"
   ]
  },
  {
   "cell_type": "code",
   "execution_count": 62,
   "metadata": {},
   "outputs": [
    {
     "name": "stdout",
     "output_type": "stream",
     "text": [
      "Cluster 0: family life home mother young son years daughter man story \n",
      "Cluster 1: people life young film lives world documentary story group different \n",
      "Cluster 2: world war ii life film time years end new journey \n",
      "Cluster 3: life young friends girl time night gets wife friend finds \n",
      "Cluster 4: live band music concert tour rock album video footage special \n",
      "Cluster 5: love falls life young girl fall man meets daughter story \n",
      "Cluster 6: woman young man husband life love finds mysterious beautiful married \n",
      "Cluster 7: new york city life year film young years time home \n",
      "Cluster 8: day life time lives young man modern years night work \n",
      "Cluster 9: man young life wife finds old home gets mysterious tries \n",
      "Cluster 10: old year life years mother girl boy time friend home \n",
      "Cluster 11: film directed director feature life history work footage time produced \n",
      "Cluster 12: story tells life film love true young years man history \n",
      "Cluster 13: short film documentary animated animation experimental comedy films directed life \n",
      "Cluster 14: history american human earth war fight country director work island \n",
      "Cluster 15: documentary film making life history interviews director footage feature world \n",
      "Cluster 16: school high students student teacher girls friends girl life class \n",
      "Cluster 17: based novel true play story film book tale life events \n",
      "Cluster 18: father son mother daughter young family life death man girl \n"
     ]
    }
   ],
   "source": [
    "original_space_centroids = lsa[0].inverse_transform(centers)\n",
    "order_centroids = original_space_centroids.argsort()[:, ::-1]\n",
    "\n",
    "for i in range(N_CLUSTERS):\n",
    "    print(f\"Cluster {i}: \", end=\"\")\n",
    "    for ind in order_centroids[i, :10]:\n",
    "        print(f\"{features[ind]} \", end=\"\")\n",
    "    print()"
   ]
  }
 ],
 "metadata": {
  "kernelspec": {
   "display_name": "Python 3",
   "language": "python",
   "name": "python3"
  },
  "language_info": {
   "codemirror_mode": {
    "name": "ipython",
    "version": 3
   },
   "file_extension": ".py",
   "mimetype": "text/x-python",
   "name": "python",
   "nbconvert_exporter": "python",
   "pygments_lexer": "ipython3",
   "version": "3.12.2"
  }
 },
 "nbformat": 4,
 "nbformat_minor": 2
}
