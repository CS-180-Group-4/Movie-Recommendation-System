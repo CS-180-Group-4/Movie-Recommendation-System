{
 "cells": [
  {
   "cell_type": "markdown",
   "metadata": {},
   "source": [
    "## Preliminaries"
   ]
  },
  {
   "cell_type": "markdown",
   "metadata": {},
   "source": [
    "#### Imports"
   ]
  },
  {
   "cell_type": "code",
   "execution_count": 1,
   "metadata": {},
   "outputs": [],
   "source": [
    "import sys\n",
    "import pandas as pd\n",
    "import matplotlib.pyplot as plt\n",
    "import matplotlib.cm as cm\n",
    "import numpy as np\n",
    "\n",
    "\n",
    "from time import time\n",
    "from sklearn.feature_extraction.text import TfidfVectorizer\n",
    "from sklearn.cluster import KMeans\n",
    "from sklearn.model_selection import train_test_split\n",
    "from sklearn.decomposition import TruncatedSVD\n",
    "from sklearn.pipeline import make_pipeline\n",
    "from sklearn.preprocessing import Normalizer\n",
    "from sklearn.metrics import silhouette_samples, silhouette_score"
   ]
  },
  {
   "cell_type": "code",
   "execution_count": 2,
   "metadata": {},
   "outputs": [],
   "source": [
    "# Allows auto reloading of modules\n",
    "%load_ext autoreload\n",
    "%autoreload 2"
   ]
  },
  {
   "cell_type": "code",
   "execution_count": 3,
   "metadata": {},
   "outputs": [],
   "source": [
    "# Add path to src folder to the path variable \n",
    "PATH_TO_SRC = \"./src\"\n",
    "\n",
    "if PATH_TO_SRC not in sys.path:\n",
    "  sys.path.append(PATH_TO_SRC)"
   ]
  },
  {
   "cell_type": "code",
   "execution_count": 4,
   "metadata": {},
   "outputs": [],
   "source": [
    "from data_preprocessor import DataPreprocessor\n",
    "from data_clusterer import DataClusterer"
   ]
  },
  {
   "cell_type": "markdown",
   "metadata": {},
   "source": [
    "#### Parameters"
   ]
  },
  {
   "cell_type": "code",
   "execution_count": 5,
   "metadata": {},
   "outputs": [],
   "source": [
    "from config import MOVIES_PATH, GENRES_PATH, TEST_SIZE, RANDOM_STATE, MAX_DF, MIN_DF, STOP_WORDS, N_COMPONENTS, NORMALIZER_COPY, N_CLUSTERS, MAX_ITER, N_INIT"
   ]
  },
  {
   "cell_type": "markdown",
   "metadata": {},
   "source": [
    "#### Instantiated classes"
   ]
  },
  {
   "cell_type": "code",
   "execution_count": 6,
   "metadata": {},
   "outputs": [],
   "source": [
    "kmeans = KMeans(n_clusters=N_CLUSTERS, max_iter=MAX_ITER, n_init=N_INIT)"
   ]
  },
  {
   "cell_type": "markdown",
   "metadata": {},
   "source": [
    "## Preprocessing"
   ]
  },
  {
   "cell_type": "code",
   "execution_count": 7,
   "metadata": {},
   "outputs": [
    {
     "data": {
      "text/html": [
       "<div>\n",
       "<style scoped>\n",
       "    .dataframe tbody tr th:only-of-type {\n",
       "        vertical-align: middle;\n",
       "    }\n",
       "\n",
       "    .dataframe tbody tr th {\n",
       "        vertical-align: top;\n",
       "    }\n",
       "\n",
       "    .dataframe thead th {\n",
       "        text-align: right;\n",
       "    }\n",
       "</style>\n",
       "<table border=\"1\" class=\"dataframe\">\n",
       "  <thead>\n",
       "    <tr style=\"text-align: right;\">\n",
       "      <th></th>\n",
       "      <th>id</th>\n",
       "      <th>name</th>\n",
       "      <th>date</th>\n",
       "      <th>tagline</th>\n",
       "      <th>description</th>\n",
       "      <th>minute</th>\n",
       "      <th>rating</th>\n",
       "    </tr>\n",
       "  </thead>\n",
       "  <tbody>\n",
       "    <tr>\n",
       "      <th>0</th>\n",
       "      <td>1000001</td>\n",
       "      <td>Barbie</td>\n",
       "      <td>2023.0</td>\n",
       "      <td>She's everything. He's just Ken.</td>\n",
       "      <td>Barbie and Ken are having the time of their li...</td>\n",
       "      <td>114.0</td>\n",
       "      <td>3.91</td>\n",
       "    </tr>\n",
       "    <tr>\n",
       "      <th>1</th>\n",
       "      <td>1000002</td>\n",
       "      <td>Parasite</td>\n",
       "      <td>2019.0</td>\n",
       "      <td>Act like you own the place.</td>\n",
       "      <td>All unemployed, Ki-taek's family takes peculia...</td>\n",
       "      <td>133.0</td>\n",
       "      <td>4.57</td>\n",
       "    </tr>\n",
       "    <tr>\n",
       "      <th>2</th>\n",
       "      <td>1000003</td>\n",
       "      <td>Everything Everywhere All at Once</td>\n",
       "      <td>2022.0</td>\n",
       "      <td>The universe is so much bigger than you realize.</td>\n",
       "      <td>An aging Chinese immigrant is swept up in an i...</td>\n",
       "      <td>140.0</td>\n",
       "      <td>4.32</td>\n",
       "    </tr>\n",
       "    <tr>\n",
       "      <th>3</th>\n",
       "      <td>1000004</td>\n",
       "      <td>Fight Club</td>\n",
       "      <td>1999.0</td>\n",
       "      <td>Mischief. Mayhem. Soap.</td>\n",
       "      <td>A ticking-time-bomb insomniac and a slippery s...</td>\n",
       "      <td>139.0</td>\n",
       "      <td>4.27</td>\n",
       "    </tr>\n",
       "    <tr>\n",
       "      <th>4</th>\n",
       "      <td>1000005</td>\n",
       "      <td>Interstellar</td>\n",
       "      <td>2014.0</td>\n",
       "      <td>Mankind was born on Earth. It was never meant ...</td>\n",
       "      <td>The adventures of a group of explorers who mak...</td>\n",
       "      <td>169.0</td>\n",
       "      <td>4.32</td>\n",
       "    </tr>\n",
       "  </tbody>\n",
       "</table>\n",
       "</div>"
      ],
      "text/plain": [
       "        id                               name    date  \\\n",
       "0  1000001                             Barbie  2023.0   \n",
       "1  1000002                           Parasite  2019.0   \n",
       "2  1000003  Everything Everywhere All at Once  2022.0   \n",
       "3  1000004                         Fight Club  1999.0   \n",
       "4  1000005                       Interstellar  2014.0   \n",
       "\n",
       "                                             tagline  \\\n",
       "0                   She's everything. He's just Ken.   \n",
       "1                        Act like you own the place.   \n",
       "2   The universe is so much bigger than you realize.   \n",
       "3                            Mischief. Mayhem. Soap.   \n",
       "4  Mankind was born on Earth. It was never meant ...   \n",
       "\n",
       "                                         description  minute  rating  \n",
       "0  Barbie and Ken are having the time of their li...   114.0    3.91  \n",
       "1  All unemployed, Ki-taek's family takes peculia...   133.0    4.57  \n",
       "2  An aging Chinese immigrant is swept up in an i...   140.0    4.32  \n",
       "3  A ticking-time-bomb insomniac and a slippery s...   139.0    4.27  \n",
       "4  The adventures of a group of explorers who mak...   169.0    4.32  "
      ]
     },
     "execution_count": 7,
     "metadata": {},
     "output_type": "execute_result"
    }
   ],
   "source": [
    "preprocessor = DataPreprocessor(MOVIES_PATH, GENRES_PATH)\n",
    "preprocessor.df_movies.head()"
   ]
  },
  {
   "cell_type": "code",
   "execution_count": 8,
   "metadata": {},
   "outputs": [
    {
     "data": {
      "text/html": [
       "<div>\n",
       "<style scoped>\n",
       "    .dataframe tbody tr th:only-of-type {\n",
       "        vertical-align: middle;\n",
       "    }\n",
       "\n",
       "    .dataframe tbody tr th {\n",
       "        vertical-align: top;\n",
       "    }\n",
       "\n",
       "    .dataframe thead th {\n",
       "        text-align: right;\n",
       "    }\n",
       "</style>\n",
       "<table border=\"1\" class=\"dataframe\">\n",
       "  <thead>\n",
       "    <tr style=\"text-align: right;\">\n",
       "      <th></th>\n",
       "      <th>id</th>\n",
       "      <th>genre</th>\n",
       "    </tr>\n",
       "  </thead>\n",
       "  <tbody>\n",
       "    <tr>\n",
       "      <th>0</th>\n",
       "      <td>1000001</td>\n",
       "      <td>Comedy</td>\n",
       "    </tr>\n",
       "    <tr>\n",
       "      <th>1</th>\n",
       "      <td>1000001</td>\n",
       "      <td>Fantasy</td>\n",
       "    </tr>\n",
       "    <tr>\n",
       "      <th>2</th>\n",
       "      <td>1000001</td>\n",
       "      <td>Adventure</td>\n",
       "    </tr>\n",
       "    <tr>\n",
       "      <th>3</th>\n",
       "      <td>1000002</td>\n",
       "      <td>Comedy</td>\n",
       "    </tr>\n",
       "    <tr>\n",
       "      <th>4</th>\n",
       "      <td>1000002</td>\n",
       "      <td>Thriller</td>\n",
       "    </tr>\n",
       "  </tbody>\n",
       "</table>\n",
       "</div>"
      ],
      "text/plain": [
       "        id      genre\n",
       "0  1000001     Comedy\n",
       "1  1000001    Fantasy\n",
       "2  1000001  Adventure\n",
       "3  1000002     Comedy\n",
       "4  1000002   Thriller"
      ]
     },
     "execution_count": 8,
     "metadata": {},
     "output_type": "execute_result"
    }
   ],
   "source": [
    "preprocessor.df_genres.head()"
   ]
  },
  {
   "cell_type": "markdown",
   "metadata": {},
   "source": [
    "#### Data Cleaning and Splitting"
   ]
  },
  {
   "cell_type": "code",
   "execution_count": 9,
   "metadata": {},
   "outputs": [
    {
     "name": "stdout",
     "output_type": "stream",
     "text": [
      "Reduced Length:  540740\n",
      "Reduced Columns:  Index(['id', 'genre', 'name', 'description', 'rating'], dtype='object')\n"
     ]
    }
   ],
   "source": [
    "preprocessor.handleDataFrame()\n",
    "X_train, X_test, y_train, y_test = preprocessor.splitData(TEST_SIZE, RANDOM_STATE)\n",
    "X_train_desc_only = X_train.description"
   ]
  },
  {
   "cell_type": "code",
   "execution_count": 10,
   "metadata": {},
   "outputs": [
    {
     "data": {
      "text/plain": [
       "585217    In this intimate and surprising documentary, t...\n",
       "122446    The Stooges, not faring well with their diner,...\n",
       "229370    The plot revolves around the life of three you...\n",
       "197995    A young soldier's fear during an artillery att...\n",
       "398017    Mumbai-based Rajendra Gupta works for Global I...\n",
       "                                ...                        \n",
       "110799    In a modern-day adaptation of Charles Dickens'...\n",
       "266435    A passionate woman, a perfect idea and a vulne...\n",
       "389542    An anti-hunting short film film made for the H...\n",
       "132826    The life and career of Clarence Darrow, the no...\n",
       "122680    Zero finds himself trapped within a universal ...\n",
       "Name: description, Length: 378518, dtype: object"
      ]
     },
     "execution_count": 10,
     "metadata": {},
     "output_type": "execute_result"
    }
   ],
   "source": [
    "X_train_desc_only"
   ]
  },
  {
   "cell_type": "markdown",
   "metadata": {},
   "source": [
    "#### Vectorization"
   ]
  },
  {
   "cell_type": "code",
   "execution_count": 11,
   "metadata": {},
   "outputs": [
    {
     "name": "stdout",
     "output_type": "stream",
     "text": [
      "Vectorized in 11.842 s\n",
      "# of Samples: 378518\n",
      "# of Features: 81591\n",
      "% of Nonzero Entries: 0.010\n"
     ]
    }
   ],
   "source": [
    "X_tfidf, features = preprocessor.vectorizeData(X_train_desc_only, MAX_DF, MIN_DF, STOP_WORDS)"
   ]
  },
  {
   "cell_type": "code",
   "execution_count": 12,
   "metadata": {},
   "outputs": [
    {
     "data": {
      "text/plain": [
       "<1x81591 sparse matrix of type '<class 'numpy.float64'>'\n",
       "\twith 14 stored elements in Compressed Sparse Row format>"
      ]
     },
     "execution_count": 12,
     "metadata": {},
     "output_type": "execute_result"
    }
   ],
   "source": [
    "X_tfidf[0]"
   ]
  },
  {
   "cell_type": "markdown",
   "metadata": {},
   "source": [
    "#### Dimensionality Reduction"
   ]
  },
  {
   "cell_type": "code",
   "execution_count": 13,
   "metadata": {},
   "outputs": [
    {
     "name": "stdout",
     "output_type": "stream",
     "text": [
      "# of Genres:  19\n",
      "Unique Genres:\n",
      "                     id\n",
      "genre                  \n",
      "Action            19194\n",
      "Adventure          8827\n",
      "Animation         39939\n",
      "Comedy            89726\n",
      "Crime             15459\n",
      "Documentary      138760\n",
      "Drama            153192\n",
      "Family            12476\n",
      "Fantasy            9163\n",
      "History            7233\n",
      "Horror            31020\n",
      "Music             29414\n",
      "Mystery            8362\n",
      "Romance           23825\n",
      "Science Fiction    9519\n",
      "TV Movie          10236\n",
      "Thriller          21435\n",
      "War                4647\n",
      "Western            6205\n",
      "LSA done in 37.147 s\n",
      "Explained variance of the SVD step: 5.1%\n"
     ]
    }
   ],
   "source": [
    "genres = preprocessor.countGenres()\n",
    "X_lsa, lsa = preprocessor.reduceDim(X_tfidf, N_COMPONENTS, NORMALIZER_COPY)"
   ]
  },
  {
   "cell_type": "code",
   "execution_count": 14,
   "metadata": {},
   "outputs": [
    {
     "data": {
      "text/plain": [
       "(378518, 50)"
      ]
     },
     "execution_count": 14,
     "metadata": {},
     "output_type": "execute_result"
    }
   ],
   "source": [
    "X_lsa.shape"
   ]
  },
  {
   "cell_type": "markdown",
   "metadata": {},
   "source": [
    "## Clustering and Optmizing K"
   ]
  },
  {
   "cell_type": "code",
   "execution_count": 15,
   "metadata": {},
   "outputs": [
    {
     "data": {
      "image/png": "[encoded data removed]",
      "text/plain": [
       "<Figure size 640x480 with 1 Axes>"
      ]
     },
     "metadata": {},
     "output_type": "display_data"
    }
   ],
   "source": [
    "clusterer = DataClusterer(X_lsa, N_CLUSTERS, MAX_ITER, N_INIT)\n",
    "K, inertias = clusterer.computeKMeansInertia()"
   ]
  },
  {
   "cell_type": "code",
   "execution_count": 16,
   "metadata": {},
   "outputs": [
    {
     "name": "stdout",
     "output_type": "stream",
     "text": [
      "Cluster 0: story tells based true film life love people young years family set journey man time way war told children history \n",
      "Cluster 1: friends best group make party trip night years family life goes decide new meet school help come childhood gets lives \n",
      "Cluster 2: documentary film short making life history interviews people work world footage american years director feature music follows filmmaker scenes explores \n",
      "Cluster 3: man young wife life finds old gets tries mysterious family goes past father takes home meets time death daughter way \n",
      "Cluster 4: police gets murder gang help crime money goes detective killer tries work brother case way takes officer make job drug \n",
      "Cluster 5: journey finds takes past mysterious work american people way place history children years little human set earth future animated group \n",
      "Cluster 6: woman young husband man life mysterious finds love meets married takes past beautiful gets relationship story goes falls men night \n",
      "Cluster 7: world war ii new journey life film people time make human years way end lives young history look story earth \n",
      "Cluster 8: film short directed director feature animated based work music horror people time experimental new journey festival silent produced japanese life \n",
      "Cluster 9: old year years new girl family life mother boy time father school son friend day lives home daughter young 12 \n",
      "Cluster 10: life new work death family day film young years time way people real journey living change takes finds lives past \n",
      "Cluster 11: love falls girl young fall life man daughter meets story finds relationship father family time wife married friend beautiful new \n",
      "Cluster 12: family young father new girl mother home time day school wife lives house son night people town years friend daughter \n",
      "Cluster 13: series horror based stories tv video set events takes village films game film men footage son movie television popular drama \n",
      "Cluster 14: live music band concert video rock tour album footage performance songs special dvd recorded musical interviews featuring american history new \n"
     ]
    }
   ],
   "source": [
    "optimal_k = 15\n",
    "centers, y_kmeans, inertia = clusterer.computeKMeans(optimal_k)\n",
    "clusterer.getClusters(optimal_k, centers, features, lsa)"
   ]
  },
  {
   "cell_type": "code",
   "execution_count": 20,
   "metadata": {},
   "outputs": [
    {
     "data": {
      "text/html": [
       "<div>\n",
       "<style scoped>\n",
       "    .dataframe tbody tr th:only-of-type {\n",
       "        vertical-align: middle;\n",
       "    }\n",
       "\n",
       "    .dataframe tbody tr th {\n",
       "        vertical-align: top;\n",
       "    }\n",
       "\n",
       "    .dataframe thead th {\n",
       "        text-align: right;\n",
       "    }\n",
       "</style>\n",
       "<table border=\"1\" class=\"dataframe\">\n",
       "  <thead>\n",
       "    <tr style=\"text-align: right;\">\n",
       "      <th></th>\n",
       "      <th>id</th>\n",
       "      <th>genre</th>\n",
       "      <th>name</th>\n",
       "      <th>description</th>\n",
       "      <th>rating</th>\n",
       "      <th>cluster</th>\n",
       "    </tr>\n",
       "  </thead>\n",
       "  <tbody>\n",
       "    <tr>\n",
       "      <th>3330</th>\n",
       "      <td>1003332</td>\n",
       "      <td>Romance</td>\n",
       "      <td>Nathan for You: Finding Frances</td>\n",
       "      <td>Nathan attempts to help a Bill Gates impersona...</td>\n",
       "      <td>4.47</td>\n",
       "      <td>11</td>\n",
       "    </tr>\n",
       "    <tr>\n",
       "      <th>624</th>\n",
       "      <td>1000625</td>\n",
       "      <td>Drama</td>\n",
       "      <td>Cinema Paradiso</td>\n",
       "      <td>A filmmaker recalls his childhood, when he fel...</td>\n",
       "      <td>4.44</td>\n",
       "      <td>11</td>\n",
       "    </tr>\n",
       "    <tr>\n",
       "      <th>1319</th>\n",
       "      <td>1001320</td>\n",
       "      <td>Drama</td>\n",
       "      <td>The Red Shoes</td>\n",
       "      <td>In this classic drama, Vicky Page is an aspiri...</td>\n",
       "      <td>4.38</td>\n",
       "      <td>11</td>\n",
       "    </tr>\n",
       "    <tr>\n",
       "      <th>1387</th>\n",
       "      <td>1001388</td>\n",
       "      <td>Drama</td>\n",
       "      <td>Wild Strawberries</td>\n",
       "      <td>Crotchety retired doctor Isak Borg travels fro...</td>\n",
       "      <td>4.33</td>\n",
       "      <td>11</td>\n",
       "    </tr>\n",
       "    <tr>\n",
       "      <th>4551</th>\n",
       "      <td>1004553</td>\n",
       "      <td>Documentary</td>\n",
       "      <td>For Sama</td>\n",
       "      <td>A love letter from a young mother to her daugh...</td>\n",
       "      <td>4.33</td>\n",
       "      <td>11</td>\n",
       "    </tr>\n",
       "    <tr>\n",
       "      <th>1756</th>\n",
       "      <td>1001758</td>\n",
       "      <td>Romance</td>\n",
       "      <td>The Young Girls of Rochefort</td>\n",
       "      <td>Delphine and Solange are two sisters living in...</td>\n",
       "      <td>4.30</td>\n",
       "      <td>11</td>\n",
       "    </tr>\n",
       "    <tr>\n",
       "      <th>353</th>\n",
       "      <td>1000354</td>\n",
       "      <td>Comedy</td>\n",
       "      <td>Chungking Express</td>\n",
       "      <td>Two melancholic Hong Kong policemen fall in lo...</td>\n",
       "      <td>4.30</td>\n",
       "      <td>11</td>\n",
       "    </tr>\n",
       "    <tr>\n",
       "      <th>17496</th>\n",
       "      <td>1017532</td>\n",
       "      <td>Comedy</td>\n",
       "      <td>Daniel Sloss: X</td>\n",
       "      <td>Daniel Sloss discusses a variety of topics, fr...</td>\n",
       "      <td>4.27</td>\n",
       "      <td>11</td>\n",
       "    </tr>\n",
       "    <tr>\n",
       "      <th>859</th>\n",
       "      <td>1000860</td>\n",
       "      <td>Drama</td>\n",
       "      <td>Metropolis</td>\n",
       "      <td>In a futuristic city sharply divided between t...</td>\n",
       "      <td>4.26</td>\n",
       "      <td>11</td>\n",
       "    </tr>\n",
       "    <tr>\n",
       "      <th>26735</th>\n",
       "      <td>1026804</td>\n",
       "      <td>Music</td>\n",
       "      <td>BEYONCÉ</td>\n",
       "      <td>Developed as a \"visual album\", Beyoncé's songs...</td>\n",
       "      <td>4.26</td>\n",
       "      <td>11</td>\n",
       "    </tr>\n",
       "  </tbody>\n",
       "</table>\n",
       "</div>"
      ],
      "text/plain": [
       "            id        genre                             name  \\\n",
       "3330   1003332      Romance  Nathan for You: Finding Frances   \n",
       "624    1000625        Drama                  Cinema Paradiso   \n",
       "1319   1001320        Drama                    The Red Shoes   \n",
       "1387   1001388        Drama                Wild Strawberries   \n",
       "4551   1004553  Documentary                         For Sama   \n",
       "1756   1001758      Romance     The Young Girls of Rochefort   \n",
       "353    1000354       Comedy                Chungking Express   \n",
       "17496  1017532       Comedy                  Daniel Sloss: X   \n",
       "859    1000860        Drama                       Metropolis   \n",
       "26735  1026804        Music                          BEYONCÉ   \n",
       "\n",
       "                                             description  rating  cluster  \n",
       "3330   Nathan attempts to help a Bill Gates impersona...    4.47       11  \n",
       "624    A filmmaker recalls his childhood, when he fel...    4.44       11  \n",
       "1319   In this classic drama, Vicky Page is an aspiri...    4.38       11  \n",
       "1387   Crotchety retired doctor Isak Borg travels fro...    4.33       11  \n",
       "4551   A love letter from a young mother to her daugh...    4.33       11  \n",
       "1756   Delphine and Solange are two sisters living in...    4.30       11  \n",
       "353    Two melancholic Hong Kong policemen fall in lo...    4.30       11  \n",
       "17496  Daniel Sloss discusses a variety of topics, fr...    4.27       11  \n",
       "859    In a futuristic city sharply divided between t...    4.26       11  \n",
       "26735  Developed as a \"visual album\", Beyoncé's songs...    4.26       11  "
      ]
     },
     "execution_count": 20,
     "metadata": {},
     "output_type": "execute_result"
    }
   ],
   "source": [
    "X_train_clustered = X_train.assign(cluster=y_kmeans)\n",
    "X_train_clustered.loc[X_train_clustered['cluster'] == 11].sort_values('rating', ascending=False).head(10)"
   ]
  },
  {
   "cell_type": "code",
   "execution_count": null,
   "metadata": {},
   "outputs": [],
   "source": [
    "np.save('cluster_centers.npy', centers)\n",
    "X_train_clustered.to_csv('clustered_movies.csv')"
   ]
  },
  {
   "cell_type": "code",
   "execution_count": null,
   "metadata": {},
   "outputs": [],
   "source": [
    "# TODO\n",
    "# Export clustered data\n",
    "# Given block of text, convert it into 100-dim vector\n",
    "# Compute euclidean distance for each centroid\n",
    "# Return cluster with minimum distance\n",
    "# Given the returned cluster, shoot out all other movies in the same cluster"
   ]
  },
  {
   "cell_type": "code",
   "execution_count": 27,
   "metadata": {},
   "outputs": [
    {
     "name": "stdout",
     "output_type": "stream",
     "text": [
      "Cluster:  0\n",
      "Distance:  9.964203079799773\n",
      "Cluster:  1\n",
      "Distance:  10.033074458892644\n",
      "Cluster:  2\n",
      "Distance:  9.973852357708644\n",
      "Cluster:  3\n",
      "Distance:  9.97343736958991\n",
      "Cluster:  4\n",
      "Distance:  9.962288494536546\n",
      "Cluster:  5\n",
      "Distance:  9.937518399105741\n",
      "Cluster:  6\n",
      "Distance:  9.969844190234884\n",
      "Cluster:  7\n",
      "Distance:  9.94892108528818\n",
      "Cluster:  8\n",
      "Distance:  10.032053641187588\n",
      "Cluster:  9\n",
      "Distance:  10.063649405770601\n",
      "Cluster:  10\n",
      "Distance:  9.998303861127555\n",
      "Cluster:  11\n",
      "Distance:  9.930992592673247\n",
      "Cluster:  12\n",
      "Distance:  9.97612007303047\n",
      "Cluster:  13\n",
      "Distance:  10.081495603763484\n",
      "Cluster:  14\n",
      "Distance:  9.994360185582645\n",
      "11\n"
     ]
    },
    {
     "name": "stderr",
     "output_type": "stream",
     "text": [
      "c:\\Users\\Rohan\\AppData\\Local\\Programs\\Python\\Python312\\Lib\\site-packages\\sklearn\\decomposition\\_truncated_svd.py:273: RuntimeWarning: invalid value encountered in divide\n",
      "  self.explained_variance_ratio_ = exp_var / full_var\n"
     ]
    }
   ],
   "source": [
    "from input_processor import processInput\n",
    "text = \"Dr. Kenzou Tenma, an elite neurosurgeon recently engaged to his hospital director's daughter, is well on his way to ascending the hospital hierarchy. That is until one night, a seemingly small event changes Dr. Tenma's life forever. While preparing to perform surgery on someone, he gets a call from the hospital director telling him to switch patients and instead perform life-saving brain surgery on a famous performer. His fellow doctors, fiancée, and the hospital director applaud his accomplishment; but because of the switch, a poor immigrant worker is dead, causing Dr. Tenma to have a crisis of conscience. So when a similar situation arises, Dr. Tenma stands his ground and chooses to perform surgery on the young boy Johan Liebert instead of the town's mayor. Unfortunately, this choice leads to serious ramifications for Dr. Tenma—losing his social standing being one of them. However, with the mysterious death of the director and two other doctors, Dr. Tenma's position is restored. With no evidence to convict him, he is released and goes on to attain the position of hospital director. Nine years later when Dr. Tenma saves the life of a criminal, his past comes back to haunt him—once again, he comes face to face with the monster he operated on. He must now embark on a quest of pursuit to make amends for the havoc spread by the one he saved.\"\n",
    "cluster = processInput(text)\n",
    "print(cluster)"
   ]
  }
 ],
 "metadata": {
  "kernelspec": {
   "display_name": "Python 3",
   "language": "python",
   "name": "python3"
  },
  "language_info": {
   "codemirror_mode": {
    "name": "ipython",
    "version": 3
   },
   "file_extension": ".py",
   "mimetype": "text/x-python",
   "name": "python",
   "nbconvert_exporter": "python",
   "pygments_lexer": "ipython3",
   "version": "3.12.2"
  }
 },
 "nbformat": 4,
 "nbformat_minor": 2
}
