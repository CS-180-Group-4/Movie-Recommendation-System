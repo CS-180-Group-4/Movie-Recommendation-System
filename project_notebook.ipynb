{
 "cells": [
  {
   "cell_type": "markdown",
   "metadata": {},
   "source": [
    "# ***Building a Movie Recommendation System with Synopses Using K-Means Clustering***"
   ]
  },
  {
   "cell_type": "markdown",
   "metadata": {},
   "source": [
    "## Preliminaries\n",
    "\n",
    "---"
   ]
  },
  {
   "cell_type": "markdown",
   "metadata": {},
   "source": [
    "### Imports\n",
    "\n",
    "We define first the necessary imports for the project. Make sure you have read first the `README.md` or at least ran `pip install -r requirements.txt` before proceeding!"
   ]
  },
  {
   "cell_type": "code",
   "execution_count": 1,
   "metadata": {},
   "outputs": [],
   "source": [
    "import sys\n",
    "import pandas as pd\n",
    "import matplotlib.pyplot as plt\n",
    "import matplotlib.cm as cm\n",
    "import numpy as np\n",
    "\n",
    "\n",
    "from time import time\n",
    "from sklearn.feature_extraction.text import TfidfVectorizer\n",
    "from sklearn.cluster import KMeans\n",
    "from sklearn.model_selection import train_test_split\n",
    "from sklearn.decomposition import TruncatedSVD\n",
    "from sklearn.pipeline import make_pipeline\n",
    "from sklearn.preprocessing import Normalizer\n",
    "from sklearn.metrics import silhouette_samples, silhouette_score"
   ]
  },
  {
   "cell_type": "code",
   "execution_count": 2,
   "metadata": {},
   "outputs": [],
   "source": [
    "# Allows auto reloading of modules\n",
    "%load_ext autoreload\n",
    "%autoreload 2"
   ]
  },
  {
   "cell_type": "code",
   "execution_count": 3,
   "metadata": {},
   "outputs": [],
   "source": [
    "# Add path to src folder to the path variable \n",
    "PATH_TO_SRC = \"./src\"\n",
    "\n",
    "if PATH_TO_SRC not in sys.path:\n",
    "  sys.path.append(PATH_TO_SRC)"
   ]
  },
  {
   "cell_type": "code",
   "execution_count": 4,
   "metadata": {},
   "outputs": [],
   "source": [
    "# Local imports from .py files\n",
    "from data_preprocessor import DataPreprocessor\n",
    "from data_clusterer import DataClusterer"
   ]
  },
  {
   "cell_type": "markdown",
   "metadata": {},
   "source": [
    "#### Parameters\n",
    "We get the variables (i.e. the parameters for the model) from `src/config.py`"
   ]
  },
  {
   "cell_type": "code",
   "execution_count": 5,
   "metadata": {},
   "outputs": [],
   "source": [
    "from config import MOVIES_PATH, GENRES_PATH, TEST_SIZE, RANDOM_STATE, MAX_DF, MIN_DF, STOP_WORDS, N_COMPONENTS, NORMALIZER_COPY, N_CLUSTERS, MAX_ITER, N_INIT"
   ]
  },
  {
   "cell_type": "markdown",
   "metadata": {},
   "source": [
    "#### Instantiated classes\n",
    "We instantiate the `KMeans` object with the number of clusters `N_CLUSTERS`, the maximum number of iterations `MAX_ITER` and the number of initializations `N_INIT`."
   ]
  },
  {
   "cell_type": "code",
   "execution_count": 6,
   "metadata": {},
   "outputs": [],
   "source": [
    "kmeans = KMeans(n_clusters=N_CLUSTERS, max_iter=MAX_ITER, n_init=N_INIT)"
   ]
  },
  {
   "cell_type": "markdown",
   "metadata": {},
   "source": [
    "## Preprocessing\n",
    "\n",
    "---\n",
    "\n",
    "We will now preprocess the data using the `DataPreprocessor` class defined in `src/data_preprocessor.py`, which contains the following methods:\n",
    "\n",
    "- `countGenres()`: **Count** the number of unique genres in the dataset.\n",
    "\n",
    "- `handleDataFrame()`: **Removes** duplicate rows from `df_genres`, **merges** it with `df_movies`, **drops** certain columns from `df_movies`, and **filters** out rows with null values in the *description* column.\n",
    "\n",
    "- `splitData()`: **Splits** the dataset into training and testing sets. It takes in two parameters: `test_size` which is the proportion of the dataset to include in the test split, and `rand_state` which is the seed used by the random number generator for shuffling the data.\n",
    "\n",
    "- `vectorizeData()`: **Converts** a collection of raw data into a matrix of TF-IDF (Term Frequency-Inverse Document Frequency) features. *(More on this later)*\n",
    "\n",
    "- `reduceDim()`: **Performs** dimensionality reduction on a given dataset using the TruncatedSVD algorithm. *(More on this later)*"
   ]
  },
  {
   "cell_type": "code",
   "execution_count": 56,
   "metadata": {},
   "outputs": [
    {
     "data": {
      "text/html": [
       "<div>\n",
       "<style scoped>\n",
       "    .dataframe tbody tr th:only-of-type {\n",
       "        vertical-align: middle;\n",
       "    }\n",
       "\n",
       "    .dataframe tbody tr th {\n",
       "        vertical-align: top;\n",
       "    }\n",
       "\n",
       "    .dataframe thead th {\n",
       "        text-align: right;\n",
       "    }\n",
       "</style>\n",
       "<table border=\"1\" class=\"dataframe\">\n",
       "  <thead>\n",
       "    <tr style=\"text-align: right;\">\n",
       "      <th></th>\n",
       "      <th>id</th>\n",
       "      <th>name</th>\n",
       "      <th>date</th>\n",
       "      <th>tagline</th>\n",
       "      <th>description</th>\n",
       "      <th>minute</th>\n",
       "      <th>rating</th>\n",
       "    </tr>\n",
       "  </thead>\n",
       "  <tbody>\n",
       "    <tr>\n",
       "      <th>0</th>\n",
       "      <td>1000001</td>\n",
       "      <td>Barbie</td>\n",
       "      <td>2023.0</td>\n",
       "      <td>She's everything. He's just Ken.</td>\n",
       "      <td>Barbie and Ken are having the time of their li...</td>\n",
       "      <td>114.0</td>\n",
       "      <td>3.91</td>\n",
       "    </tr>\n",
       "    <tr>\n",
       "      <th>1</th>\n",
       "      <td>1000002</td>\n",
       "      <td>Parasite</td>\n",
       "      <td>2019.0</td>\n",
       "      <td>Act like you own the place.</td>\n",
       "      <td>All unemployed, Ki-taek's family takes peculia...</td>\n",
       "      <td>133.0</td>\n",
       "      <td>4.57</td>\n",
       "    </tr>\n",
       "    <tr>\n",
       "      <th>2</th>\n",
       "      <td>1000003</td>\n",
       "      <td>Everything Everywhere All at Once</td>\n",
       "      <td>2022.0</td>\n",
       "      <td>The universe is so much bigger than you realize.</td>\n",
       "      <td>An aging Chinese immigrant is swept up in an i...</td>\n",
       "      <td>140.0</td>\n",
       "      <td>4.32</td>\n",
       "    </tr>\n",
       "    <tr>\n",
       "      <th>3</th>\n",
       "      <td>1000004</td>\n",
       "      <td>Fight Club</td>\n",
       "      <td>1999.0</td>\n",
       "      <td>Mischief. Mayhem. Soap.</td>\n",
       "      <td>A ticking-time-bomb insomniac and a slippery s...</td>\n",
       "      <td>139.0</td>\n",
       "      <td>4.27</td>\n",
       "    </tr>\n",
       "    <tr>\n",
       "      <th>4</th>\n",
       "      <td>1000005</td>\n",
       "      <td>Interstellar</td>\n",
       "      <td>2014.0</td>\n",
       "      <td>Mankind was born on Earth. It was never meant ...</td>\n",
       "      <td>The adventures of a group of explorers who mak...</td>\n",
       "      <td>169.0</td>\n",
       "      <td>4.32</td>\n",
       "    </tr>\n",
       "  </tbody>\n",
       "</table>\n",
       "</div>"
      ],
      "text/plain": [
       "        id                               name    date  \\\n",
       "0  1000001                             Barbie  2023.0   \n",
       "1  1000002                           Parasite  2019.0   \n",
       "2  1000003  Everything Everywhere All at Once  2022.0   \n",
       "3  1000004                         Fight Club  1999.0   \n",
       "4  1000005                       Interstellar  2014.0   \n",
       "\n",
       "                                             tagline  \\\n",
       "0                   She's everything. He's just Ken.   \n",
       "1                        Act like you own the place.   \n",
       "2   The universe is so much bigger than you realize.   \n",
       "3                            Mischief. Mayhem. Soap.   \n",
       "4  Mankind was born on Earth. It was never meant ...   \n",
       "\n",
       "                                         description  minute  rating  \n",
       "0  Barbie and Ken are having the time of their li...   114.0    3.91  \n",
       "1  All unemployed, Ki-taek's family takes peculia...   133.0    4.57  \n",
       "2  An aging Chinese immigrant is swept up in an i...   140.0    4.32  \n",
       "3  A ticking-time-bomb insomniac and a slippery s...   139.0    4.27  \n",
       "4  The adventures of a group of explorers who mak...   169.0    4.32  "
      ]
     },
     "execution_count": 56,
     "metadata": {},
     "output_type": "execute_result"
    }
   ],
   "source": [
    "preprocessor = DataPreprocessor(MOVIES_PATH, GENRES_PATH)\n",
    "preprocessor.df_movies.head()"
   ]
  },
  {
   "cell_type": "code",
   "execution_count": 68,
   "metadata": {},
   "outputs": [
    {
     "data": {
      "text/html": [
       "<div>\n",
       "<style scoped>\n",
       "    .dataframe tbody tr th:only-of-type {\n",
       "        vertical-align: middle;\n",
       "    }\n",
       "\n",
       "    .dataframe tbody tr th {\n",
       "        vertical-align: top;\n",
       "    }\n",
       "\n",
       "    .dataframe thead th {\n",
       "        text-align: right;\n",
       "    }\n",
       "</style>\n",
       "<table border=\"1\" class=\"dataframe\">\n",
       "  <thead>\n",
       "    <tr style=\"text-align: right;\">\n",
       "      <th></th>\n",
       "      <th>id</th>\n",
       "      <th>genre</th>\n",
       "      <th>name</th>\n",
       "      <th>description</th>\n",
       "      <th>rating</th>\n",
       "    </tr>\n",
       "  </thead>\n",
       "  <tbody>\n",
       "    <tr>\n",
       "      <th>1</th>\n",
       "      <td>1000001</td>\n",
       "      <td>Comedy</td>\n",
       "      <td>Barbie</td>\n",
       "      <td>Barbie and Ken are having the time of their li...</td>\n",
       "      <td>3.91</td>\n",
       "    </tr>\n",
       "    <tr>\n",
       "      <th>2</th>\n",
       "      <td>1000002</td>\n",
       "      <td>Comedy</td>\n",
       "      <td>Parasite</td>\n",
       "      <td>All unemployed, Ki-taek's family takes peculia...</td>\n",
       "      <td>4.57</td>\n",
       "    </tr>\n",
       "    <tr>\n",
       "      <th>3</th>\n",
       "      <td>1000003</td>\n",
       "      <td>Science Fiction</td>\n",
       "      <td>Everything Everywhere All at Once</td>\n",
       "      <td>An aging Chinese immigrant is swept up in an i...</td>\n",
       "      <td>4.32</td>\n",
       "    </tr>\n",
       "    <tr>\n",
       "      <th>4</th>\n",
       "      <td>1000004</td>\n",
       "      <td>Drama</td>\n",
       "      <td>Fight Club</td>\n",
       "      <td>A ticking-time-bomb insomniac and a slippery s...</td>\n",
       "      <td>4.27</td>\n",
       "    </tr>\n",
       "    <tr>\n",
       "      <th>5</th>\n",
       "      <td>1000005</td>\n",
       "      <td>Science Fiction</td>\n",
       "      <td>Interstellar</td>\n",
       "      <td>The adventures of a group of explorers who mak...</td>\n",
       "      <td>4.32</td>\n",
       "    </tr>\n",
       "  </tbody>\n",
       "</table>\n",
       "</div>"
      ],
      "text/plain": [
       "        id            genre                               name  \\\n",
       "1  1000001           Comedy                             Barbie   \n",
       "2  1000002           Comedy                           Parasite   \n",
       "3  1000003  Science Fiction  Everything Everywhere All at Once   \n",
       "4  1000004            Drama                         Fight Club   \n",
       "5  1000005  Science Fiction                       Interstellar   \n",
       "\n",
       "                                         description rating  \n",
       "1  Barbie and Ken are having the time of their li...   3.91  \n",
       "2  All unemployed, Ki-taek's family takes peculia...   4.57  \n",
       "3  An aging Chinese immigrant is swept up in an i...   4.32  \n",
       "4  A ticking-time-bomb insomniac and a slippery s...   4.27  \n",
       "5  The adventures of a group of explorers who mak...   4.32  "
      ]
     },
     "execution_count": 68,
     "metadata": {},
     "output_type": "execute_result"
    }
   ],
   "source": [
    "preprocessor.df_movies.head()"
   ]
  },
  {
   "cell_type": "code",
   "execution_count": 69,
   "metadata": {},
   "outputs": [
    {
     "data": {
      "text/html": [
       "<div>\n",
       "<style scoped>\n",
       "    .dataframe tbody tr th:only-of-type {\n",
       "        vertical-align: middle;\n",
       "    }\n",
       "\n",
       "    .dataframe tbody tr th {\n",
       "        vertical-align: top;\n",
       "    }\n",
       "\n",
       "    .dataframe thead th {\n",
       "        text-align: right;\n",
       "    }\n",
       "</style>\n",
       "<table border=\"1\" class=\"dataframe\">\n",
       "  <thead>\n",
       "    <tr style=\"text-align: right;\">\n",
       "      <th></th>\n",
       "      <th>id</th>\n",
       "      <th>genre</th>\n",
       "      <th>name</th>\n",
       "      <th>description</th>\n",
       "      <th>rating</th>\n",
       "    </tr>\n",
       "  </thead>\n",
       "  <tbody>\n",
       "    <tr>\n",
       "      <th>0</th>\n",
       "      <td>None</td>\n",
       "      <td>None</td>\n",
       "      <td>None</td>\n",
       "      <td>Hi</td>\n",
       "      <td>None</td>\n",
       "    </tr>\n",
       "    <tr>\n",
       "      <th>1</th>\n",
       "      <td>Hi</td>\n",
       "      <td>Hi</td>\n",
       "      <td>Hi</td>\n",
       "      <td>Hi</td>\n",
       "      <td>Hi</td>\n",
       "    </tr>\n",
       "    <tr>\n",
       "      <th>2</th>\n",
       "      <td>1000001</td>\n",
       "      <td>Comedy</td>\n",
       "      <td>Barbie</td>\n",
       "      <td>Barbie and Ken are having the time of their li...</td>\n",
       "      <td>3.91</td>\n",
       "    </tr>\n",
       "    <tr>\n",
       "      <th>3</th>\n",
       "      <td>1000002</td>\n",
       "      <td>Comedy</td>\n",
       "      <td>Parasite</td>\n",
       "      <td>All unemployed, Ki-taek's family takes peculia...</td>\n",
       "      <td>4.57</td>\n",
       "    </tr>\n",
       "    <tr>\n",
       "      <th>4</th>\n",
       "      <td>1000003</td>\n",
       "      <td>Science Fiction</td>\n",
       "      <td>Everything Everywhere All at Once</td>\n",
       "      <td>An aging Chinese immigrant is swept up in an i...</td>\n",
       "      <td>4.32</td>\n",
       "    </tr>\n",
       "    <tr>\n",
       "      <th>...</th>\n",
       "      <td>...</td>\n",
       "      <td>...</td>\n",
       "      <td>...</td>\n",
       "      <td>...</td>\n",
       "      <td>...</td>\n",
       "    </tr>\n",
       "    <tr>\n",
       "      <th>638637</th>\n",
       "      <td>1896371</td>\n",
       "      <td>Drama</td>\n",
       "      <td>Xigarette</td>\n",
       "      <td>Xanat lives a secret identity under her teen n...</td>\n",
       "      <td>NaN</td>\n",
       "    </tr>\n",
       "    <tr>\n",
       "      <th>638638</th>\n",
       "      <td>1896372</td>\n",
       "      <td>Drama</td>\n",
       "      <td>Your Way</td>\n",
       "      <td>Udi gets lost in the woods. At the worst time,...</td>\n",
       "      <td>NaN</td>\n",
       "    </tr>\n",
       "    <tr>\n",
       "      <th>638639</th>\n",
       "      <td>1896373</td>\n",
       "      <td>Comedy</td>\n",
       "      <td>YusufPutus1 Baru Saja Mengunggah Video</td>\n",
       "      <td>Yusuf, a worker who recently got viral online ...</td>\n",
       "      <td>NaN</td>\n",
       "    </tr>\n",
       "    <tr>\n",
       "      <th>638644</th>\n",
       "      <td>1896391</td>\n",
       "      <td>Music</td>\n",
       "      <td>柴咲コウ CONCERT TOUR 2023 ACTOR'S THE BEST</td>\n",
       "      <td>KO SHIBASAKI CONCERT TOUR 2023 - ACTOR'S THE BEST</td>\n",
       "      <td>NaN</td>\n",
       "    </tr>\n",
       "    <tr>\n",
       "      <th>638645</th>\n",
       "      <td>1896393</td>\n",
       "      <td>TV Movie</td>\n",
       "      <td>絶対BLになる世界VS絶対BLになりたくない男 2024</td>\n",
       "      <td>One day, the protagonist realizes that he live...</td>\n",
       "      <td>NaN</td>\n",
       "    </tr>\n",
       "  </tbody>\n",
       "</table>\n",
       "<p>540742 rows × 5 columns</p>\n",
       "</div>"
      ],
      "text/plain": [
       "             id            genre                                     name  \\\n",
       "0          None             None                                     None   \n",
       "1            Hi               Hi                                       Hi   \n",
       "2       1000001           Comedy                                   Barbie   \n",
       "3       1000002           Comedy                                 Parasite   \n",
       "4       1000003  Science Fiction        Everything Everywhere All at Once   \n",
       "...         ...              ...                                      ...   \n",
       "638637  1896371            Drama                                Xigarette   \n",
       "638638  1896372            Drama                                 Your Way   \n",
       "638639  1896373           Comedy   YusufPutus1 Baru Saja Mengunggah Video   \n",
       "638644  1896391            Music  柴咲コウ CONCERT TOUR 2023 ACTOR'S THE BEST   \n",
       "638645  1896393         TV Movie             絶対BLになる世界VS絶対BLになりたくない男 2024   \n",
       "\n",
       "                                              description rating  \n",
       "0                                                      Hi   None  \n",
       "1                                                      Hi     Hi  \n",
       "2       Barbie and Ken are having the time of their li...   3.91  \n",
       "3       All unemployed, Ki-taek's family takes peculia...   4.57  \n",
       "4       An aging Chinese immigrant is swept up in an i...   4.32  \n",
       "...                                                   ...    ...  \n",
       "638637  Xanat lives a secret identity under her teen n...    NaN  \n",
       "638638  Udi gets lost in the woods. At the worst time,...    NaN  \n",
       "638639  Yusuf, a worker who recently got viral online ...    NaN  \n",
       "638644  KO SHIBASAKI CONCERT TOUR 2023 - ACTOR'S THE BEST    NaN  \n",
       "638645  One day, the protagonist realizes that he live...    NaN  \n",
       "\n",
       "[540742 rows x 5 columns]"
      ]
     },
     "execution_count": 69,
     "metadata": {},
     "output_type": "execute_result"
    }
   ],
   "source": [
    "preprocessor.df_movies.loc[-1] = [None, None, None, \"Hi\", None]\n",
    "preprocessor.df_movies.index += 1\n",
    "preprocessor.df_movies.sort_index()"
   ]
  },
  {
   "cell_type": "code",
   "execution_count": 73,
   "metadata": {},
   "outputs": [
    {
     "data": {
      "text/html": [
       "<div>\n",
       "<style scoped>\n",
       "    .dataframe tbody tr th:only-of-type {\n",
       "        vertical-align: middle;\n",
       "    }\n",
       "\n",
       "    .dataframe tbody tr th {\n",
       "        vertical-align: top;\n",
       "    }\n",
       "\n",
       "    .dataframe thead th {\n",
       "        text-align: right;\n",
       "    }\n",
       "</style>\n",
       "<table border=\"1\" class=\"dataframe\">\n",
       "  <thead>\n",
       "    <tr style=\"text-align: right;\">\n",
       "      <th></th>\n",
       "      <th>id</th>\n",
       "      <th>genre</th>\n",
       "    </tr>\n",
       "  </thead>\n",
       "  <tbody>\n",
       "    <tr>\n",
       "      <th>0</th>\n",
       "      <td>1000001</td>\n",
       "      <td>Comedy</td>\n",
       "    </tr>\n",
       "    <tr>\n",
       "      <th>1</th>\n",
       "      <td>1000001</td>\n",
       "      <td>Fantasy</td>\n",
       "    </tr>\n",
       "    <tr>\n",
       "      <th>2</th>\n",
       "      <td>1000001</td>\n",
       "      <td>Adventure</td>\n",
       "    </tr>\n",
       "    <tr>\n",
       "      <th>3</th>\n",
       "      <td>1000002</td>\n",
       "      <td>Comedy</td>\n",
       "    </tr>\n",
       "    <tr>\n",
       "      <th>4</th>\n",
       "      <td>1000002</td>\n",
       "      <td>Thriller</td>\n",
       "    </tr>\n",
       "    <tr>\n",
       "      <th>5</th>\n",
       "      <td>1000002</td>\n",
       "      <td>Drama</td>\n",
       "    </tr>\n",
       "    <tr>\n",
       "      <th>6</th>\n",
       "      <td>1000003</td>\n",
       "      <td>Science Fiction</td>\n",
       "    </tr>\n",
       "    <tr>\n",
       "      <th>7</th>\n",
       "      <td>1000003</td>\n",
       "      <td>Action</td>\n",
       "    </tr>\n",
       "    <tr>\n",
       "      <th>8</th>\n",
       "      <td>1000003</td>\n",
       "      <td>Adventure</td>\n",
       "    </tr>\n",
       "    <tr>\n",
       "      <th>9</th>\n",
       "      <td>1000004</td>\n",
       "      <td>Drama</td>\n",
       "    </tr>\n",
       "    <tr>\n",
       "      <th>10</th>\n",
       "      <td>1000005</td>\n",
       "      <td>Science Fiction</td>\n",
       "    </tr>\n",
       "    <tr>\n",
       "      <th>11</th>\n",
       "      <td>1000005</td>\n",
       "      <td>Drama</td>\n",
       "    </tr>\n",
       "    <tr>\n",
       "      <th>12</th>\n",
       "      <td>1000005</td>\n",
       "      <td>Adventure</td>\n",
       "    </tr>\n",
       "    <tr>\n",
       "      <th>13</th>\n",
       "      <td>1000006</td>\n",
       "      <td>Thriller</td>\n",
       "    </tr>\n",
       "    <tr>\n",
       "      <th>14</th>\n",
       "      <td>1000006</td>\n",
       "      <td>Drama</td>\n",
       "    </tr>\n",
       "    <tr>\n",
       "      <th>15</th>\n",
       "      <td>1000006</td>\n",
       "      <td>Crime</td>\n",
       "    </tr>\n",
       "    <tr>\n",
       "      <th>16</th>\n",
       "      <td>1000007</td>\n",
       "      <td>Adventure</td>\n",
       "    </tr>\n",
       "    <tr>\n",
       "      <th>17</th>\n",
       "      <td>1000007</td>\n",
       "      <td>Animation</td>\n",
       "    </tr>\n",
       "    <tr>\n",
       "      <th>18</th>\n",
       "      <td>1000007</td>\n",
       "      <td>Science Fiction</td>\n",
       "    </tr>\n",
       "    <tr>\n",
       "      <th>19</th>\n",
       "      <td>1000007</td>\n",
       "      <td>Action</td>\n",
       "    </tr>\n",
       "  </tbody>\n",
       "</table>\n",
       "</div>"
      ],
      "text/plain": [
       "         id            genre\n",
       "0   1000001           Comedy\n",
       "1   1000001          Fantasy\n",
       "2   1000001        Adventure\n",
       "3   1000002           Comedy\n",
       "4   1000002         Thriller\n",
       "5   1000002            Drama\n",
       "6   1000003  Science Fiction\n",
       "7   1000003           Action\n",
       "8   1000003        Adventure\n",
       "9   1000004            Drama\n",
       "10  1000005  Science Fiction\n",
       "11  1000005            Drama\n",
       "12  1000005        Adventure\n",
       "13  1000006         Thriller\n",
       "14  1000006            Drama\n",
       "15  1000006            Crime\n",
       "16  1000007        Adventure\n",
       "17  1000007        Animation\n",
       "18  1000007  Science Fiction\n",
       "19  1000007           Action"
      ]
     },
     "execution_count": 73,
     "metadata": {},
     "output_type": "execute_result"
    }
   ],
   "source": [
    "preprocessor.df_genres.head(20)"
   ]
  },
  {
   "cell_type": "markdown",
   "metadata": {},
   "source": [
    "#### Data Cleaning and Splitting\n",
    "We perform here data cleaning and splitting using the methods `handleDataFrame` and `splitData`, respectively."
   ]
  },
  {
   "cell_type": "code",
   "execution_count": 58,
   "metadata": {},
   "outputs": [
    {
     "name": "stdout",
     "output_type": "stream",
     "text": [
      "Reduced Length:  540740\n",
      "Reduced Columns:  Index(['id', 'genre', 'name', 'description', 'rating'], dtype='object')\n"
     ]
    }
   ],
   "source": [
    "preprocessor.handleDataFrame()\n",
    "X_train, X_test, y_train, y_test = preprocessor.splitData(TEST_SIZE, RANDOM_STATE)\n",
    "X_train_desc_only = X_train.description\n",
    "X_train_desc_only_copy = X_train_desc_only"
   ]
  },
  {
   "cell_type": "code",
   "execution_count": 59,
   "metadata": {},
   "outputs": [
    {
     "data": {
      "text/plain": [
       "0         Dr. Kenzou Tenma, an elite neurosurgeon recent...\n",
       "1         Barbie and Ken are having the time of their li...\n",
       "2         All unemployed, Ki-taek's family takes peculia...\n",
       "4         A ticking-time-bomb insomniac and a slippery s...\n",
       "5         The adventures of a group of explorers who mak...\n",
       "                                ...                        \n",
       "638633    A long term couple sit down for a romantic mea...\n",
       "638634    Winterland is a celebration of ski and snowboa...\n",
       "638636    Xanat lives a secret identity under her teen n...\n",
       "638637    Udi gets lost in the woods. At the worst time,...\n",
       "638638    Yusuf, a worker who recently got viral online ...\n",
       "Name: description, Length: 378519, dtype: object"
      ]
     },
     "execution_count": 59,
     "metadata": {},
     "output_type": "execute_result"
    }
   ],
   "source": [
    "X_train_desc_only_copy.loc[-1] = \"Dr. Kenzou Tenma, an elite neurosurgeon recently engaged to his hospital director's daughter, is well on his way to ascending the hospital hierarchy. That is until one night, a seemingly small event changes Dr. Tenma's life forever. While preparing to perform surgery on someone, he gets a call from the hospital director telling him to switch patients and instead perform life-saving brain surgery on a famous performer. His fellow doctors, fiancée, and the hospital director applaud his accomplishment; but because of the switch, a poor immigrant worker is dead, causing Dr. Tenma to have a crisis of conscience. So when a similar situation arises, Dr. Tenma stands his ground and chooses to perform surgery on the young boy Johan Liebert instead of the town's mayor. Unfortunately, this choice leads to serious ramifications for Dr. Tenma—losing his social standing being one of them. However, with the mysterious death of the director and two other doctors, Dr. Tenma's position is restored. With no evidence to convict him, he is released and goes on to attain the position of hospital director. Nine years later when Dr. Tenma saves the life of a criminal, his past comes back to haunt him—once again, he comes face to face with the monster he operated on. He must now embark on a quest of pursuit to make amends for the havoc spread by the one he saved.\"\n",
    "X_train_desc_only_copy.index += 1\n",
    "X_train_desc_only_copy = X_train_desc_only_copy.sort_index()\n",
    "\n",
    "X_train_desc_only_copy"
   ]
  },
  {
   "cell_type": "markdown",
   "metadata": {},
   "source": [
    "#### Vectorization\n",
    "We will now explore the vectorization of the dataset through the following steps.\n",
    "1. The method `vectorizeData` has the following parameters:\n",
    "\n",
    "    - `X`: A pandas DataFrame containing the raw data.\n",
    "\n",
    "    - `max_df`:  A float or integer representing the maximum document frequency threshold. Terms with a document frequency higher than this threshold will be ignored.\n",
    "\n",
    "    - `min_df`: An integer representing the minimum document frequency threshold. Terms with a document frequency lower than this threshold will be ignored.\n",
    "\n",
    "    - `custom_stop_words`: A dictionary of custom stop words to be added to the existing English stop words.\n",
    "    \n",
    "    - `verbose`: A boolean indicating whether to print additional information during the vectorization process.\n",
    "\n",
    "2. It combines the existing English stop words along with the custom stop words provided.\n",
    "\n",
    "3. It creates an instance of the `TfidfVectorizer` class, which is a subclass of `CountVectorizer`. `CountVectorizer` is responsible for converting a collection of text documents into a matrix of token counts.\n",
    "\n",
    "4. It sets the parameters of the TfidfVectorizer instance, including `max_df`, `min_df`, and `stop_words`.\n",
    "\n",
    "5. It measures the time it takes to vectorize the data by calling the `fit_transform` method of the `TfidfVectorizer` instance on the input data `X`. This method converts the raw data into a matrix of TF-IDF features.\n",
    "\n",
    "6. It calculates the time taken for vectorization and prints it if the verbose parameter is set to `True`.\n",
    "\n",
    "7. It prints additional information about the vectorized data, including the number of samples, number of features, and percentage of nonzero entries.\n",
    "\n",
    "8. Finally, it returns the vectorized data (`X_tfidf`) and the feature names obtained from the `TfidfVectorizer` instance."
   ]
  },
  {
   "cell_type": "code",
   "execution_count": 11,
   "metadata": {},
   "outputs": [
    {
     "name": "stdout",
     "output_type": "stream",
     "text": [
      "Vectorized in 7.756 s\n",
      "# of Samples: 378518\n",
      "# of Features: 81591\n",
      "% of Nonzero Entries: 0.010\n"
     ]
    }
   ],
   "source": [
    "X_tfidf, features = preprocessor.vectorizeData(X_train_desc_only, MAX_DF, MIN_DF)"
   ]
  },
  {
   "cell_type": "markdown",
   "metadata": {},
   "source": [
    "#### Dimensionality Reduction\n",
    "\n",
    "In performing dimensional reduction, the following steps were done.\n",
    "\n",
    "1. The method `reduceDim` has the following parameters:\n",
    "\n",
    "    - `X`: A pandas DataFrame representing the input data.\n",
    "\n",
    "    - `num_comp`: An integer specifying the desired dimensionality of the output data.\n",
    "\n",
    "    - `normalizer_copy`: A boolean indicating whether to create a copy of the normalizer.\n",
    "\n",
    "    - `verbose`: A boolean indicating whether to print verbose output.\n",
    "\n",
    "2. The method first creates a pipeline using the `make_pipeline` function, which chains together the TruncatedSVD transformer and the Normalizer transformer. The TruncatedSVD transformer performs the dimensionality reduction, while the Normalizer transformer normalizes the data.\n",
    "\n",
    "3. Next, the method fits the pipeline to the input data (`X`) using the `fit_transform method`. This step reduces the dimensionality of the data and returns the transformed data (`X_lsa`).\n",
    "\n",
    "4. The method then calculates the explained variance of the SVD step and the time taken for the dimensionality reduction. If the `verbose` parameter is set to `True`, it prints the time taken and the explained variance.\n",
    "\n",
    "5. Finally, the method returns the transformed data (`X_lsa`) and the pipeline (`lsa`)."
   ]
  },
  {
   "cell_type": "code",
   "execution_count": 13,
   "metadata": {},
   "outputs": [
    {
     "name": "stdout",
     "output_type": "stream",
     "text": [
      "# of Genres:  19\n",
      "Unique Genres:\n",
      "                     id\n",
      "genre                  \n",
      "Action            19194\n",
      "Adventure          8827\n",
      "Animation         39939\n",
      "Comedy            89726\n",
      "Crime             15459\n",
      "Documentary      138760\n",
      "Drama            153192\n",
      "Family            12476\n",
      "Fantasy            9163\n",
      "History            7233\n",
      "Horror            31020\n",
      "Music             29414\n",
      "Mystery            8362\n",
      "Romance           23825\n",
      "Science Fiction    9519\n",
      "TV Movie          10236\n",
      "Thriller          21435\n",
      "War                4647\n",
      "Western            6205\n",
      "LSA done in 7.316 s\n",
      "Explained variance of the SVD step: 5.0%\n"
     ]
    }
   ],
   "source": [
    "genres = preprocessor.countGenres()\n",
    "X_lsa, lsa = preprocessor.reduceDim(X_tfidf, N_COMPONENTS, NORMALIZER_COPY)"
   ]
  },
  {
   "cell_type": "code",
   "execution_count": 14,
   "metadata": {},
   "outputs": [
    {
     "data": {
      "text/plain": [
       "(378518, 50)"
      ]
     },
     "execution_count": 14,
     "metadata": {},
     "output_type": "execute_result"
    }
   ],
   "source": [
    "X_lsa.shape"
   ]
  },
  {
   "cell_type": "markdown",
   "metadata": {},
   "source": [
    "## Clustering and Optimizing K\n",
    "\n",
    "---"
   ]
  },
  {
   "cell_type": "code",
   "execution_count": null,
   "metadata": {},
   "outputs": [],
   "source": [
    "# clusterer = DataClusterer(X_lsa, N_CLUSTERS, MAX_ITER, N_INIT)\n",
    "# K, inertias = clusterer.computeKMeansInertia()\n",
    "\n",
    "silhouettes = []\n",
    "\n",
    "for i in range(2, N_CLUSTERS + 1):\n",
    "    kmeans = KMeans(n_clusters=i)\n",
    "    print(\"Insantiated\", i)\n",
    "    kmeans.fit(X_lsa)\n",
    "    print(\"Model fitted\")\n",
    "    silhouettes.append(silhouette_score(X_lsa, kmeans.labels_))\n",
    "    print(\"Silhouette computed\")\n",
    "\n",
    "plt.plot(range(2, N_CLUSTERS + 1), silhouettes, 'bx-')\n",
    "plt.xlabel('K value')\n",
    "plt.ylabel('Silhouette')\n",
    "plt.show()"
   ]
  },
  {
   "cell_type": "code",
   "execution_count": 33,
   "metadata": {},
   "outputs": [
    {
     "data": {
      "text/plain": [
       "(378518, 50)"
      ]
     },
     "execution_count": 33,
     "metadata": {},
     "output_type": "execute_result"
    }
   ],
   "source": [
    "X_lsa.shape"
   ]
  },
  {
   "cell_type": "code",
   "execution_count": 18,
   "metadata": {},
   "outputs": [],
   "source": [
    "clusterer = DataClusterer(X_lsa, N_CLUSTERS, MAX_ITER, N_INIT)"
   ]
  },
  {
   "cell_type": "code",
   "execution_count": 19,
   "metadata": {},
   "outputs": [
    {
     "name": "stdout",
     "output_type": "stream",
     "text": [
      "Cluster 0: school high student students teacher girls college group class girl friends new year life children friend day young gets way \n",
      "Cluster 1: woman young husband man love life mysterious finds meets relationship married falls beautiful gets home men past help story tries \n",
      "Cluster 2: series movie short comedy based drama horror directed tv stories animated video films special documentary animation film events set new \n",
      "Cluster 3: love young girl father time day wife friends mother people home new couple house night make friend son town years \n",
      "Cluster 4: life love new death work way film years time day young documentary people real lives change make journey living takes \n",
      "Cluster 5: old year years new life boy girl mother father time friends friend home love lives son make day house parents \n",
      "Cluster 6: city new york big lives living takes village way brother music place people night life film help young streets country \n",
      "Cluster 7: family life father home son daughter mother young children years new man brother love house story friends lives time christmas \n",
      "Cluster 8: police way group gets murder mysterious gang help make goes set killer journey crime takes secret detective finds fight death \n",
      "Cluster 9: war world ii american civil german army japanese soldiers set film soldier men history years end group lost military country \n",
      "Cluster 10: man young wife life love finds old tries gets mysterious goes way meets death father home girl past daughter time \n",
      "Cluster 11: film short documentary directed director feature animated horror people music based time work experimental new series produced japanese festival films \n",
      "Cluster 12: documentary music live band video concert rock work history footage years tour album american interviews series performance look special musical \n",
      "Cluster 13: world new people lives time film life way ii takes years documentary end death journey human make place story mysterious \n",
      "Cluster 14: story tells love based true film life people young years set journey man time way documentary told lives girl follows \n"
     ]
    }
   ],
   "source": [
    "optimal_k = 15\n",
    "centers, y_kmeans, inertia = clusterer.computeKMeans(optimal_k)\n",
    "clusterer.getClusters(optimal_k, centers, features, lsa)"
   ]
  },
  {
   "cell_type": "code",
   "execution_count": 63,
   "metadata": {},
   "outputs": [
    {
     "data": {
      "text/html": [
       "<div>\n",
       "<style scoped>\n",
       "    .dataframe tbody tr th:only-of-type {\n",
       "        vertical-align: middle;\n",
       "    }\n",
       "\n",
       "    .dataframe tbody tr th {\n",
       "        vertical-align: top;\n",
       "    }\n",
       "\n",
       "    .dataframe thead th {\n",
       "        text-align: right;\n",
       "    }\n",
       "</style>\n",
       "<table border=\"1\" class=\"dataframe\">\n",
       "  <thead>\n",
       "    <tr style=\"text-align: right;\">\n",
       "      <th></th>\n",
       "      <th>id</th>\n",
       "      <th>genre</th>\n",
       "      <th>name</th>\n",
       "      <th>description</th>\n",
       "      <th>rating</th>\n",
       "      <th>cluster</th>\n",
       "    </tr>\n",
       "  </thead>\n",
       "  <tbody>\n",
       "    <tr>\n",
       "      <th>4803</th>\n",
       "      <td>1004805</td>\n",
       "      <td>Documentary</td>\n",
       "      <td>Planet Earth</td>\n",
       "      <td>David Attenborough celebrates the amazing vari...</td>\n",
       "      <td>4.57</td>\n",
       "      <td>13</td>\n",
       "    </tr>\n",
       "    <tr>\n",
       "      <th>9364</th>\n",
       "      <td>1009384</td>\n",
       "      <td>Animation</td>\n",
       "      <td>Attack on Titan The Final Chapters: Special 2</td>\n",
       "      <td>As Eren ruthlessly tramples every inch of the ...</td>\n",
       "      <td>4.40</td>\n",
       "      <td>13</td>\n",
       "    </tr>\n",
       "    <tr>\n",
       "      <th>14498</th>\n",
       "      <td>1014524</td>\n",
       "      <td>Animation</td>\n",
       "      <td>Attack on Titan The Final Chapters: Special 1</td>\n",
       "      <td>As The Rumbling advances, the remaining member...</td>\n",
       "      <td>4.36</td>\n",
       "      <td>13</td>\n",
       "    </tr>\n",
       "    <tr>\n",
       "      <th>2427</th>\n",
       "      <td>1002429</td>\n",
       "      <td>Animation</td>\n",
       "      <td>Death Note</td>\n",
       "      <td>Light Yagami is an ace student with great pros...</td>\n",
       "      <td>4.35</td>\n",
       "      <td>13</td>\n",
       "    </tr>\n",
       "    <tr>\n",
       "      <th>17294</th>\n",
       "      <td>1017330</td>\n",
       "      <td>Music</td>\n",
       "      <td>SUGA: Road to D-DAY</td>\n",
       "      <td>SUGA of the world-renowned group, BTS, works o...</td>\n",
       "      <td>4.35</td>\n",
       "      <td>13</td>\n",
       "    </tr>\n",
       "    <tr>\n",
       "      <th>7387</th>\n",
       "      <td>1007400</td>\n",
       "      <td>Animation</td>\n",
       "      <td>Primal</td>\n",
       "      <td>A caveman forms a bond with a dinosaur as they...</td>\n",
       "      <td>4.33</td>\n",
       "      <td>13</td>\n",
       "    </tr>\n",
       "    <tr>\n",
       "      <th>1623</th>\n",
       "      <td>1001625</td>\n",
       "      <td>Drama</td>\n",
       "      <td>All That Jazz</td>\n",
       "      <td>Joe Gideon is at the top of the heap, one of t...</td>\n",
       "      <td>4.30</td>\n",
       "      <td>13</td>\n",
       "    </tr>\n",
       "    <tr>\n",
       "      <th>1320</th>\n",
       "      <td>1001321</td>\n",
       "      <td>Drama</td>\n",
       "      <td>La Dolce Vita</td>\n",
       "      <td>Journalist and man-about-town Marcello struggl...</td>\n",
       "      <td>4.27</td>\n",
       "      <td>13</td>\n",
       "    </tr>\n",
       "    <tr>\n",
       "      <th>27401</th>\n",
       "      <td>1027473</td>\n",
       "      <td>Documentary</td>\n",
       "      <td>Human Planet</td>\n",
       "      <td>A cinematic experience bringing you the most a...</td>\n",
       "      <td>4.27</td>\n",
       "      <td>13</td>\n",
       "    </tr>\n",
       "    <tr>\n",
       "      <th>7028</th>\n",
       "      <td>1007040</td>\n",
       "      <td>Drama</td>\n",
       "      <td>Edvard Munch</td>\n",
       "      <td>Edvard Munch's childhood is overshadowed by de...</td>\n",
       "      <td>4.26</td>\n",
       "      <td>13</td>\n",
       "    </tr>\n",
       "  </tbody>\n",
       "</table>\n",
       "</div>"
      ],
      "text/plain": [
       "            id        genre                                           name  \\\n",
       "4803   1004805  Documentary                                   Planet Earth   \n",
       "9364   1009384    Animation  Attack on Titan The Final Chapters: Special 2   \n",
       "14498  1014524    Animation  Attack on Titan The Final Chapters: Special 1   \n",
       "2427   1002429    Animation                                     Death Note   \n",
       "17294  1017330        Music                            SUGA: Road to D-DAY   \n",
       "7387   1007400    Animation                                         Primal   \n",
       "1623   1001625        Drama                                  All That Jazz   \n",
       "1320   1001321        Drama                                  La Dolce Vita   \n",
       "27401  1027473  Documentary                                   Human Planet   \n",
       "7028   1007040        Drama                                   Edvard Munch   \n",
       "\n",
       "                                             description  rating  cluster  \n",
       "4803   David Attenborough celebrates the amazing vari...    4.57       13  \n",
       "9364   As Eren ruthlessly tramples every inch of the ...    4.40       13  \n",
       "14498  As The Rumbling advances, the remaining member...    4.36       13  \n",
       "2427   Light Yagami is an ace student with great pros...    4.35       13  \n",
       "17294  SUGA of the world-renowned group, BTS, works o...    4.35       13  \n",
       "7387   A caveman forms a bond with a dinosaur as they...    4.33       13  \n",
       "1623   Joe Gideon is at the top of the heap, one of t...    4.30       13  \n",
       "1320   Journalist and man-about-town Marcello struggl...    4.27       13  \n",
       "27401  A cinematic experience bringing you the most a...    4.27       13  \n",
       "7028   Edvard Munch's childhood is overshadowed by de...    4.26       13  "
      ]
     },
     "execution_count": 63,
     "metadata": {},
     "output_type": "execute_result"
    }
   ],
   "source": [
    "X_train_clustered = X_train.assign(cluster=y_kmeans)\n",
    "X_train_clustered.loc[X_train_clustered['cluster'] == X_train_clustered.loc[0]['cluster']].sort_values('rating', ascending=False).head(10)"
   ]
  },
  {
   "cell_type": "code",
   "execution_count": 62,
   "metadata": {},
   "outputs": [
    {
     "data": {
      "text/plain": [
       "13"
      ]
     },
     "execution_count": 62,
     "metadata": {},
     "output_type": "execute_result"
    }
   ],
   "source": [
    "X_train_clustered.loc[0]['cluster']"
   ]
  },
  {
   "cell_type": "code",
   "execution_count": 31,
   "metadata": {},
   "outputs": [],
   "source": [
    "# np.save('cluster_centers.npy', centers) # Centroids\n",
    "np.save('vectorized_data.npy', X_lsa) # Data as 'points'\n",
    "# X_train_clustered.to_csv('clustered_movies.csv') # Data as presented to user"
   ]
  },
  {
   "cell_type": "code",
   "execution_count": null,
   "metadata": {},
   "outputs": [],
   "source": [
    "# TODO\n",
    "# Export clustered data\n",
    "# Given block of text, convert it into 6s-dim vector\n",
    "# Compute euclidean distance for each centroid\n",
    "# Return cluster with minimum distance\n",
    "# Given the returned cluster, shoot out all other movies in the same cluster"
   ]
  },
  {
   "cell_type": "code",
   "execution_count": 53,
   "metadata": {},
   "outputs": [
    {
     "name": "stdout",
     "output_type": "stream",
     "text": [
      "(1, 90)\n"
     ]
    },
    {
     "ename": "ValueError",
     "evalue": "operands could not be broadcast together with remapped shapes [original->remapped]: (100,)  and requested shape (1,90)",
     "output_type": "error",
     "traceback": [
      "\u001b[1;31m---------------------------------------------------------------------------\u001b[0m",
      "\u001b[1;31mValueError\u001b[0m                                Traceback (most recent call last)",
      "Cell \u001b[1;32mIn[53], line 4\u001b[0m\n\u001b[0;32m      1\u001b[0m \u001b[38;5;28;01mfrom\u001b[39;00m \u001b[38;5;21;01minput_processor\u001b[39;00m \u001b[38;5;28;01mimport\u001b[39;00m processInput, computeDistances\n\u001b[0;32m      3\u001b[0m text \u001b[38;5;241m=\u001b[39m \u001b[38;5;124m\"\u001b[39m\u001b[38;5;124mDr. Kenzou Tenma, an elite neurosurgeon recently engaged to his hospital director\u001b[39m\u001b[38;5;124m'\u001b[39m\u001b[38;5;124ms daughter, is well on his way to ascending the hospital hierarchy. That is until one night, a seemingly small event changes Dr. Tenma\u001b[39m\u001b[38;5;124m'\u001b[39m\u001b[38;5;124ms life forever. While preparing to perform surgery on someone, he gets a call from the hospital director telling him to switch patients and instead perform life-saving brain surgery on a famous performer. His fellow doctors, fiancée, and the hospital director applaud his accomplishment; but because of the switch, a poor immigrant worker is dead, causing Dr. Tenma to have a crisis of conscience. So when a similar situation arises, Dr. Tenma stands his ground and chooses to perform surgery on the young boy Johan Liebert instead of the town\u001b[39m\u001b[38;5;124m'\u001b[39m\u001b[38;5;124ms mayor. Unfortunately, this choice leads to serious ramifications for Dr. Tenma—losing his social standing being one of them. However, with the mysterious death of the director and two other doctors, Dr. Tenma\u001b[39m\u001b[38;5;124m'\u001b[39m\u001b[38;5;124ms position is restored. With no evidence to convict him, he is released and goes on to attain the position of hospital director. Nine years later when Dr. Tenma saves the life of a criminal, his past comes back to haunt him—once again, he comes face to face with the monster he operated on. He must now embark on a quest of pursuit to make amends for the havoc spread by the one he saved.\u001b[39m\u001b[38;5;124m\"\u001b[39m\n\u001b[1;32m----> 4\u001b[0m X_lsa, cluster \u001b[38;5;241m=\u001b[39m \u001b[43mprocessInput\u001b[49m\u001b[43m(\u001b[49m\u001b[43mtext\u001b[49m\u001b[43m)\u001b[49m\n\u001b[0;32m      5\u001b[0m recommendations \u001b[38;5;241m=\u001b[39m computeDistances(X_lsa, cluster) \u001b[38;5;66;03m# clustered_movies.loc[clustered_movies['cluster'] == cluster].sort_values('rating', ascending=False).head(10)\u001b[39;00m\n\u001b[0;32m      7\u001b[0m X_lsa\n",
      "File \u001b[1;32mc:\\Users\\Rohan\\Desktop\\Projects\\Movie-Recommendation-System\\input_processor.py:83\u001b[0m, in \u001b[0;36mprocessInput\u001b[1;34m(input)\u001b[0m\n\u001b[0;32m     80\u001b[0m X_tfidf \u001b[38;5;241m=\u001b[39m vectorizeInput(\u001b[38;5;28minput\u001b[39m)\n\u001b[0;32m     82\u001b[0m \u001b[38;5;66;03m# X_lsa = reduceDim(X_tfidf)\u001b[39;00m\n\u001b[1;32m---> 83\u001b[0m cluster \u001b[38;5;241m=\u001b[39m \u001b[43mfindNearestCentroid\u001b[49m\u001b[43m(\u001b[49m\u001b[43mX_tfidf\u001b[49m\u001b[43m)\u001b[49m\n\u001b[0;32m     85\u001b[0m \u001b[38;5;28;01mreturn\u001b[39;00m X_tfidf, cluster\n",
      "File \u001b[1;32mc:\\Users\\Rohan\\Desktop\\Projects\\Movie-Recommendation-System\\input_processor.py:53\u001b[0m, in \u001b[0;36mfindNearestCentroid\u001b[1;34m(X_lsa)\u001b[0m\n\u001b[0;32m     50\u001b[0m min_distance \u001b[38;5;241m=\u001b[39m \u001b[38;5;241m0xFFFFFFFF\u001b[39m\n\u001b[0;32m     52\u001b[0m \u001b[38;5;28;01mfor\u001b[39;00m i \u001b[38;5;129;01min\u001b[39;00m \u001b[38;5;28mrange\u001b[39m(\u001b[38;5;28mlen\u001b[39m(centroids)):\n\u001b[1;32m---> 53\u001b[0m     dist \u001b[38;5;241m=\u001b[39m np\u001b[38;5;241m.\u001b[39mlinalg\u001b[38;5;241m.\u001b[39mnorm(\u001b[43mX_lsa\u001b[49m\u001b[43m[\u001b[49m\u001b[38;5;241;43m0\u001b[39;49m\u001b[43m]\u001b[49m\u001b[43m \u001b[49m\u001b[38;5;241;43m-\u001b[39;49m\u001b[43m \u001b[49m\u001b[43mcentroids\u001b[49m\u001b[43m[\u001b[49m\u001b[43mi\u001b[49m\u001b[43m]\u001b[49m)\n\u001b[0;32m     54\u001b[0m     \u001b[38;5;66;03m# print(\"Cluster: \", i)\u001b[39;00m\n\u001b[0;32m     55\u001b[0m     \u001b[38;5;66;03m# print(\"Distance: \", dist)\u001b[39;00m\n\u001b[0;32m     57\u001b[0m     \u001b[38;5;28;01mif\u001b[39;00m dist \u001b[38;5;241m<\u001b[39m min_distance:\n",
      "File \u001b[1;32mc:\\Users\\Rohan\\AppData\\Local\\Programs\\Python\\Python312\\Lib\\site-packages\\scipy\\sparse\\_base.py:542\u001b[0m, in \u001b[0;36m_spbase.__sub__\u001b[1;34m(self, other)\u001b[0m\n\u001b[0;32m    540\u001b[0m     \u001b[38;5;28;01mreturn\u001b[39;00m \u001b[38;5;28mself\u001b[39m\u001b[38;5;241m.\u001b[39m_sub_sparse(other)\n\u001b[0;32m    541\u001b[0m \u001b[38;5;28;01melif\u001b[39;00m isdense(other):\n\u001b[1;32m--> 542\u001b[0m     other \u001b[38;5;241m=\u001b[39m \u001b[43mnp\u001b[49m\u001b[38;5;241;43m.\u001b[39;49m\u001b[43mbroadcast_to\u001b[49m\u001b[43m(\u001b[49m\u001b[43mother\u001b[49m\u001b[43m,\u001b[49m\u001b[43m \u001b[49m\u001b[38;5;28;43mself\u001b[39;49m\u001b[38;5;241;43m.\u001b[39;49m\u001b[43mshape\u001b[49m\u001b[43m)\u001b[49m\n\u001b[0;32m    543\u001b[0m     \u001b[38;5;28;01mreturn\u001b[39;00m \u001b[38;5;28mself\u001b[39m\u001b[38;5;241m.\u001b[39m_sub_dense(other)\n\u001b[0;32m    544\u001b[0m \u001b[38;5;28;01melse\u001b[39;00m:\n",
      "File \u001b[1;32mc:\\Users\\Rohan\\AppData\\Local\\Programs\\Python\\Python312\\Lib\\site-packages\\numpy\\lib\\stride_tricks.py:413\u001b[0m, in \u001b[0;36mbroadcast_to\u001b[1;34m(array, shape, subok)\u001b[0m\n\u001b[0;32m    367\u001b[0m \u001b[38;5;129m@array_function_dispatch\u001b[39m(_broadcast_to_dispatcher, module\u001b[38;5;241m=\u001b[39m\u001b[38;5;124m'\u001b[39m\u001b[38;5;124mnumpy\u001b[39m\u001b[38;5;124m'\u001b[39m)\n\u001b[0;32m    368\u001b[0m \u001b[38;5;28;01mdef\u001b[39;00m \u001b[38;5;21mbroadcast_to\u001b[39m(array, shape, subok\u001b[38;5;241m=\u001b[39m\u001b[38;5;28;01mFalse\u001b[39;00m):\n\u001b[0;32m    369\u001b[0m \u001b[38;5;250m    \u001b[39m\u001b[38;5;124;03m\"\"\"Broadcast an array to a new shape.\u001b[39;00m\n\u001b[0;32m    370\u001b[0m \n\u001b[0;32m    371\u001b[0m \u001b[38;5;124;03m    Parameters\u001b[39;00m\n\u001b[1;32m   (...)\u001b[0m\n\u001b[0;32m    411\u001b[0m \u001b[38;5;124;03m           [1, 2, 3]])\u001b[39;00m\n\u001b[0;32m    412\u001b[0m \u001b[38;5;124;03m    \"\"\"\u001b[39;00m\n\u001b[1;32m--> 413\u001b[0m     \u001b[38;5;28;01mreturn\u001b[39;00m \u001b[43m_broadcast_to\u001b[49m\u001b[43m(\u001b[49m\u001b[43marray\u001b[49m\u001b[43m,\u001b[49m\u001b[43m \u001b[49m\u001b[43mshape\u001b[49m\u001b[43m,\u001b[49m\u001b[43m \u001b[49m\u001b[43msubok\u001b[49m\u001b[38;5;241;43m=\u001b[39;49m\u001b[43msubok\u001b[49m\u001b[43m,\u001b[49m\u001b[43m \u001b[49m\u001b[43mreadonly\u001b[49m\u001b[38;5;241;43m=\u001b[39;49m\u001b[38;5;28;43;01mTrue\u001b[39;49;00m\u001b[43m)\u001b[49m\n",
      "File \u001b[1;32mc:\\Users\\Rohan\\AppData\\Local\\Programs\\Python\\Python312\\Lib\\site-packages\\numpy\\lib\\stride_tricks.py:349\u001b[0m, in \u001b[0;36m_broadcast_to\u001b[1;34m(array, shape, subok, readonly)\u001b[0m\n\u001b[0;32m    346\u001b[0m     \u001b[38;5;28;01mraise\u001b[39;00m \u001b[38;5;167;01mValueError\u001b[39;00m(\u001b[38;5;124m'\u001b[39m\u001b[38;5;124mall elements of broadcast shape must be non-\u001b[39m\u001b[38;5;124m'\u001b[39m\n\u001b[0;32m    347\u001b[0m                      \u001b[38;5;124m'\u001b[39m\u001b[38;5;124mnegative\u001b[39m\u001b[38;5;124m'\u001b[39m)\n\u001b[0;32m    348\u001b[0m extras \u001b[38;5;241m=\u001b[39m []\n\u001b[1;32m--> 349\u001b[0m it \u001b[38;5;241m=\u001b[39m \u001b[43mnp\u001b[49m\u001b[38;5;241;43m.\u001b[39;49m\u001b[43mnditer\u001b[49m\u001b[43m(\u001b[49m\n\u001b[0;32m    350\u001b[0m \u001b[43m    \u001b[49m\u001b[43m(\u001b[49m\u001b[43marray\u001b[49m\u001b[43m,\u001b[49m\u001b[43m)\u001b[49m\u001b[43m,\u001b[49m\u001b[43m \u001b[49m\u001b[43mflags\u001b[49m\u001b[38;5;241;43m=\u001b[39;49m\u001b[43m[\u001b[49m\u001b[38;5;124;43m'\u001b[39;49m\u001b[38;5;124;43mmulti_index\u001b[39;49m\u001b[38;5;124;43m'\u001b[39;49m\u001b[43m,\u001b[49m\u001b[43m \u001b[49m\u001b[38;5;124;43m'\u001b[39;49m\u001b[38;5;124;43mrefs_ok\u001b[39;49m\u001b[38;5;124;43m'\u001b[39;49m\u001b[43m,\u001b[49m\u001b[43m \u001b[49m\u001b[38;5;124;43m'\u001b[39;49m\u001b[38;5;124;43mzerosize_ok\u001b[39;49m\u001b[38;5;124;43m'\u001b[39;49m\u001b[43m]\u001b[49m\u001b[43m \u001b[49m\u001b[38;5;241;43m+\u001b[39;49m\u001b[43m \u001b[49m\u001b[43mextras\u001b[49m\u001b[43m,\u001b[49m\n\u001b[0;32m    351\u001b[0m \u001b[43m    \u001b[49m\u001b[43mop_flags\u001b[49m\u001b[38;5;241;43m=\u001b[39;49m\u001b[43m[\u001b[49m\u001b[38;5;124;43m'\u001b[39;49m\u001b[38;5;124;43mreadonly\u001b[39;49m\u001b[38;5;124;43m'\u001b[39;49m\u001b[43m]\u001b[49m\u001b[43m,\u001b[49m\u001b[43m \u001b[49m\u001b[43mitershape\u001b[49m\u001b[38;5;241;43m=\u001b[39;49m\u001b[43mshape\u001b[49m\u001b[43m,\u001b[49m\u001b[43m \u001b[49m\u001b[43morder\u001b[49m\u001b[38;5;241;43m=\u001b[39;49m\u001b[38;5;124;43m'\u001b[39;49m\u001b[38;5;124;43mC\u001b[39;49m\u001b[38;5;124;43m'\u001b[39;49m\u001b[43m)\u001b[49m\n\u001b[0;32m    352\u001b[0m \u001b[38;5;28;01mwith\u001b[39;00m it:\n\u001b[0;32m    353\u001b[0m     \u001b[38;5;66;03m# never really has writebackifcopy semantics\u001b[39;00m\n\u001b[0;32m    354\u001b[0m     broadcast \u001b[38;5;241m=\u001b[39m it\u001b[38;5;241m.\u001b[39mitviews[\u001b[38;5;241m0\u001b[39m]\n",
      "\u001b[1;31mValueError\u001b[0m: operands could not be broadcast together with remapped shapes [original->remapped]: (100,)  and requested shape (1,90)"
     ]
    }
   ],
   "source": [
    "from input_processor import processInput, computeDistances\n",
    "\n",
    "text = \"Dr. Kenzou Tenma, an elite neurosurgeon recently engaged to his hospital director's daughter, is well on his way to ascending the hospital hierarchy. That is until one night, a seemingly small event changes Dr. Tenma's life forever. While preparing to perform surgery on someone, he gets a call from the hospital director telling him to switch patients and instead perform life-saving brain surgery on a famous performer. His fellow doctors, fiancée, and the hospital director applaud his accomplishment; but because of the switch, a poor immigrant worker is dead, causing Dr. Tenma to have a crisis of conscience. So when a similar situation arises, Dr. Tenma stands his ground and chooses to perform surgery on the young boy Johan Liebert instead of the town's mayor. Unfortunately, this choice leads to serious ramifications for Dr. Tenma—losing his social standing being one of them. However, with the mysterious death of the director and two other doctors, Dr. Tenma's position is restored. With no evidence to convict him, he is released and goes on to attain the position of hospital director. Nine years later when Dr. Tenma saves the life of a criminal, his past comes back to haunt him—once again, he comes face to face with the monster he operated on. He must now embark on a quest of pursuit to make amends for the havoc spread by the one he saved.\"\n",
    "X_lsa, cluster = processInput(text)\n",
    "recommendations = computeDistances(X_lsa, cluster) # clustered_movies.loc[clustered_movies['cluster'] == cluster].sort_values('rating', ascending=False).head(10)\n",
    "\n",
    "X_lsa"
   ]
  },
  {
   "cell_type": "code",
   "execution_count": 51,
   "metadata": {},
   "outputs": [
    {
     "name": "stdout",
     "output_type": "stream",
     "text": [
      "2.23606797749979\n"
     ]
    }
   ],
   "source": [
    "dist = np.linalg.norm(np.array([1]) - np.array([1, 2, 3]))\n",
    "\n",
    "print(dist)"
   ]
  },
  {
   "cell_type": "markdown",
   "metadata": {},
   "source": [
    "## Results and Discussion\n",
    "\n",
    "---"
   ]
  }
 ],
 "metadata": {
  "kernelspec": {
   "display_name": "Python 3",
   "language": "python",
   "name": "python3"
  },
  "language_info": {
   "codemirror_mode": {
    "name": "ipython",
    "version": 3
   },
   "file_extension": ".py",
   "mimetype": "text/x-python",
   "name": "python",
   "nbconvert_exporter": "python",
   "pygments_lexer": "ipython3",
   "version": "3.12.2"
  }
 },
 "nbformat": 4,
 "nbformat_minor": 2
}
